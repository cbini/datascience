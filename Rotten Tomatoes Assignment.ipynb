{
 "cells": [
  {
   "cell_type": "code",
   "execution_count": 2,
   "metadata": {
    "collapsed": false
   },
   "outputs": [
    {
     "data": {
      "text/plain": [
       "0    So ingenious in concept, design and execution ...\n",
       "1                    The year's most inventive comedy.\n",
       "2    A winning animated feature that has something ...\n",
       "3    The film sports a provocative and appealing st...\n",
       "4    An entertaining computer-generated, hyperreali...\n",
       "5    As Lion King did before it, Toy Story revived ...\n",
       "6    The film will probably be more fully appreciat...\n",
       "7    Children will enjoy a new take on the irresist...\n",
       "8    Although its computer-generated imagery is imp...\n",
       "9    How perfect that two of the most popular funny...\n",
       "Name: quote, dtype: object"
      ]
     },
     "execution_count": 2,
     "metadata": {},
     "output_type": "execute_result"
    }
   ],
   "source": [
    "import pandas as pd\n",
    "\n",
    "pd.set_option('display.width', 500)\n",
    "pd.set_option('display.max_columns', 30)\n",
    "\n",
    "critics = pd.read_csv('../DAT18NYC/data/rt_critics.csv') ## load Rotten Tomatoes data\n",
    "critics.quote.head(10)"
   ]
  },
  {
   "cell_type": "code",
   "execution_count": 3,
   "metadata": {
    "collapsed": false
   },
   "outputs": [
    {
     "data": {
      "text/html": [
       "<div style=\"max-height:1000px;max-width:1500px;overflow:auto;\">\n",
       "<table border=\"1\" class=\"dataframe\">\n",
       "  <thead>\n",
       "    <tr style=\"text-align: right;\">\n",
       "      <th></th>\n",
       "      <th>critic</th>\n",
       "      <th>fresh</th>\n",
       "      <th>imdb</th>\n",
       "      <th>publication</th>\n",
       "      <th>quote</th>\n",
       "      <th>review_date</th>\n",
       "      <th>rtid</th>\n",
       "      <th>title</th>\n",
       "      <th>quote_clean</th>\n",
       "    </tr>\n",
       "  </thead>\n",
       "  <tbody>\n",
       "    <tr>\n",
       "      <th>0</th>\n",
       "      <td>        Derek Adams</td>\n",
       "      <td> 1</td>\n",
       "      <td> 114709</td>\n",
       "      <td>       Time Out</td>\n",
       "      <td> So ingenious in concept, design and execution ...</td>\n",
       "      <td> 2009-10-04</td>\n",
       "      <td> 9559</td>\n",
       "      <td> Toy story</td>\n",
       "      <td> ingeni concept, design execut could watch post...</td>\n",
       "    </tr>\n",
       "    <tr>\n",
       "      <th>1</th>\n",
       "      <td>    Richard Corliss</td>\n",
       "      <td> 1</td>\n",
       "      <td> 114709</td>\n",
       "      <td>  TIME Magazine</td>\n",
       "      <td>                 The year's most inventive comedy.</td>\n",
       "      <td> 2008-08-31</td>\n",
       "      <td> 9559</td>\n",
       "      <td> Toy story</td>\n",
       "      <td>                               year invent comedy.</td>\n",
       "    </tr>\n",
       "    <tr>\n",
       "      <th>2</th>\n",
       "      <td>        David Ansen</td>\n",
       "      <td> 1</td>\n",
       "      <td> 114709</td>\n",
       "      <td>       Newsweek</td>\n",
       "      <td> A winning animated feature that has something ...</td>\n",
       "      <td> 2008-08-18</td>\n",
       "      <td> 9559</td>\n",
       "      <td> Toy story</td>\n",
       "      <td>      win anim featur someth everyon age spectrum.</td>\n",
       "    </tr>\n",
       "    <tr>\n",
       "      <th>3</th>\n",
       "      <td>      Leonard Klady</td>\n",
       "      <td> 1</td>\n",
       "      <td> 114709</td>\n",
       "      <td>        Variety</td>\n",
       "      <td> The film sports a provocative and appealing st...</td>\n",
       "      <td> 2008-06-09</td>\n",
       "      <td> 9559</td>\n",
       "      <td> Toy story</td>\n",
       "      <td> film sport provoc appeal stori that everi bit ...</td>\n",
       "    </tr>\n",
       "    <tr>\n",
       "      <th>4</th>\n",
       "      <td> Jonathan Rosenbaum</td>\n",
       "      <td> 1</td>\n",
       "      <td> 114709</td>\n",
       "      <td> Chicago Reader</td>\n",
       "      <td> An entertaining computer-generated, hyperreali...</td>\n",
       "      <td> 2008-03-10</td>\n",
       "      <td> 9559</td>\n",
       "      <td> Toy story</td>\n",
       "      <td> entertain computer-generated, hyperrealist ani...</td>\n",
       "    </tr>\n",
       "  </tbody>\n",
       "</table>\n",
       "</div>"
      ],
      "text/plain": [
       "               critic  fresh    imdb     publication                                              quote review_date  rtid      title                                        quote_clean\n",
       "0         Derek Adams      1  114709        Time Out  So ingenious in concept, design and execution ...  2009-10-04  9559  Toy story  ingeni concept, design execut could watch post...\n",
       "1     Richard Corliss      1  114709   TIME Magazine                  The year's most inventive comedy.  2008-08-31  9559  Toy story                                year invent comedy.\n",
       "2         David Ansen      1  114709        Newsweek  A winning animated feature that has something ...  2008-08-18  9559  Toy story       win anim featur someth everyon age spectrum.\n",
       "3       Leonard Klady      1  114709         Variety  The film sports a provocative and appealing st...  2008-06-09  9559  Toy story  film sport provoc appeal stori that everi bit ...\n",
       "4  Jonathan Rosenbaum      1  114709  Chicago Reader  An entertaining computer-generated, hyperreali...  2008-03-10  9559  Toy story  entertain computer-generated, hyperrealist ani..."
      ]
     },
     "execution_count": 3,
     "metadata": {},
     "output_type": "execute_result"
    }
   ],
   "source": [
    "import nltk\n",
    "from nltk.stem.snowball import SnowballStemmer\n",
    "\n",
    "stopwords_filter = set(nltk.corpus.stopwords.words('english'))\n",
    "stemmer = SnowballStemmer('english')\n",
    "\n",
    "def clean_quote(quote):\n",
    "    import string\n",
    "    import re    \n",
    "    quote = quote.strip().lower() ## remove leading whitespace and make lowercase\n",
    "    quote = ' '.join([w for w in quote.split() if w not in stopwords_filter])    \n",
    "    quote = ' '.join([stemmer.stem(w) for w in quote.split()])\n",
    "    quote = ''.join([w for w in quote if not w.isdigit()])\n",
    "    return quote\n",
    "\n",
    "critics['quote_clean'] = critics.quote.apply(clean_quote)\n",
    "critics['fresh'] = critics.fresh.map({'fresh':1, 'rotten':0})\n",
    "critics.head()"
   ]
  },
  {
   "cell_type": "code",
   "execution_count": 4,
   "metadata": {
    "collapsed": false
   },
   "outputs": [],
   "source": [
    "from sklearn.feature_extraction.text import CountVectorizer\n",
    "\n",
    "vectorizer = CountVectorizer(ngram_range = (1,2))\n",
    "\n",
    "x = vectorizer.fit_transform(critics.quote_clean)  ## create sparse matrix of features\n",
    "y = critics.fresh ## array of target values"
   ]
  },
  {
   "cell_type": "code",
   "execution_count": 17,
   "metadata": {
    "collapsed": false
   },
   "outputs": [
    {
     "ename": "ValueError",
     "evalue": "Input contains NaN, infinity or a value too large for dtype('float64').",
     "output_type": "error",
     "traceback": [
      "\u001b[1;31m---------------------------------------------------------------------------\u001b[0m",
      "\u001b[1;31mValueError\u001b[0m                                Traceback (most recent call last)",
      "\u001b[1;32m<ipython-input-17-707f27e676f9>\u001b[0m in \u001b[0;36m<module>\u001b[1;34m()\u001b[0m\n\u001b[0;32m     11\u001b[0m \"\"\"\n\u001b[0;32m     12\u001b[0m \u001b[1;33m\u001b[0m\u001b[0m\n\u001b[1;32m---> 13\u001b[1;33m \u001b[0mf_classif\u001b[0m\u001b[1;33m(\u001b[0m\u001b[0mx\u001b[0m\u001b[1;33m,\u001b[0m \u001b[0my\u001b[0m\u001b[1;33m)\u001b[0m\u001b[1;33m\u001b[0m\u001b[0m\n\u001b[0m",
      "\u001b[1;32mc:\\Anaconda\\lib\\site-packages\\sklearn\\feature_selection\\univariate_selection.pyc\u001b[0m in \u001b[0;36mf_classif\u001b[1;34m(X, y)\u001b[0m\n\u001b[0;32m    130\u001b[0m         \u001b[0mThe\u001b[0m \u001b[0mset\u001b[0m \u001b[0mof\u001b[0m \u001b[0mp\u001b[0m\u001b[1;33m-\u001b[0m\u001b[0mvalues\u001b[0m\u001b[1;33m.\u001b[0m\u001b[1;33m\u001b[0m\u001b[0m\n\u001b[0;32m    131\u001b[0m     \"\"\"\n\u001b[1;32m--> 132\u001b[1;33m     \u001b[0mX\u001b[0m\u001b[1;33m,\u001b[0m \u001b[0my\u001b[0m \u001b[1;33m=\u001b[0m \u001b[0mcheck_arrays\u001b[0m\u001b[1;33m(\u001b[0m\u001b[0mX\u001b[0m\u001b[1;33m,\u001b[0m \u001b[0my\u001b[0m\u001b[1;33m)\u001b[0m\u001b[1;33m\u001b[0m\u001b[0m\n\u001b[0m\u001b[0;32m    133\u001b[0m     \u001b[0margs\u001b[0m \u001b[1;33m=\u001b[0m \u001b[1;33m[\u001b[0m\u001b[0mX\u001b[0m\u001b[1;33m[\u001b[0m\u001b[0msafe_mask\u001b[0m\u001b[1;33m(\u001b[0m\u001b[0mX\u001b[0m\u001b[1;33m,\u001b[0m \u001b[0my\u001b[0m \u001b[1;33m==\u001b[0m \u001b[0mk\u001b[0m\u001b[1;33m)\u001b[0m\u001b[1;33m]\u001b[0m \u001b[1;32mfor\u001b[0m \u001b[0mk\u001b[0m \u001b[1;32min\u001b[0m \u001b[0mnp\u001b[0m\u001b[1;33m.\u001b[0m\u001b[0munique\u001b[0m\u001b[1;33m(\u001b[0m\u001b[0my\u001b[0m\u001b[1;33m)\u001b[0m\u001b[1;33m]\u001b[0m\u001b[1;33m\u001b[0m\u001b[0m\n\u001b[0;32m    134\u001b[0m     \u001b[1;32mreturn\u001b[0m \u001b[0mf_oneway\u001b[0m\u001b[1;33m(\u001b[0m\u001b[1;33m*\u001b[0m\u001b[0margs\u001b[0m\u001b[1;33m)\u001b[0m\u001b[1;33m\u001b[0m\u001b[0m\n",
      "\u001b[1;32mc:\\Anaconda\\lib\\site-packages\\sklearn\\utils\\validation.pyc\u001b[0m in \u001b[0;36mcheck_arrays\u001b[1;34m(*arrays, **options)\u001b[0m\n\u001b[0;32m    281\u001b[0m                     \u001b[0marray\u001b[0m \u001b[1;33m=\u001b[0m \u001b[0mnp\u001b[0m\u001b[1;33m.\u001b[0m\u001b[0masarray\u001b[0m\u001b[1;33m(\u001b[0m\u001b[0marray\u001b[0m\u001b[1;33m,\u001b[0m \u001b[0mdtype\u001b[0m\u001b[1;33m=\u001b[0m\u001b[0mdtype\u001b[0m\u001b[1;33m)\u001b[0m\u001b[1;33m\u001b[0m\u001b[0m\n\u001b[0;32m    282\u001b[0m                 \u001b[1;32mif\u001b[0m \u001b[1;32mnot\u001b[0m \u001b[0mallow_nans\u001b[0m\u001b[1;33m:\u001b[0m\u001b[1;33m\u001b[0m\u001b[0m\n\u001b[1;32m--> 283\u001b[1;33m                     \u001b[0m_assert_all_finite\u001b[0m\u001b[1;33m(\u001b[0m\u001b[0marray\u001b[0m\u001b[1;33m)\u001b[0m\u001b[1;33m\u001b[0m\u001b[0m\n\u001b[0m\u001b[0;32m    284\u001b[0m \u001b[1;33m\u001b[0m\u001b[0m\n\u001b[0;32m    285\u001b[0m             \u001b[1;32mif\u001b[0m \u001b[1;32mnot\u001b[0m \u001b[0mallow_nd\u001b[0m \u001b[1;32mand\u001b[0m \u001b[0marray\u001b[0m\u001b[1;33m.\u001b[0m\u001b[0mndim\u001b[0m \u001b[1;33m>=\u001b[0m \u001b[1;36m3\u001b[0m\u001b[1;33m:\u001b[0m\u001b[1;33m\u001b[0m\u001b[0m\n",
      "\u001b[1;32mc:\\Anaconda\\lib\\site-packages\\sklearn\\utils\\validation.pyc\u001b[0m in \u001b[0;36m_assert_all_finite\u001b[1;34m(X)\u001b[0m\n\u001b[0;32m     41\u001b[0m             and not np.isfinite(X).all()):\n\u001b[0;32m     42\u001b[0m         raise ValueError(\"Input contains NaN, infinity\"\n\u001b[1;32m---> 43\u001b[1;33m                          \" or a value too large for %r.\" % X.dtype)\n\u001b[0m\u001b[0;32m     44\u001b[0m \u001b[1;33m\u001b[0m\u001b[0m\n\u001b[0;32m     45\u001b[0m \u001b[1;33m\u001b[0m\u001b[0m\n",
      "\u001b[1;31mValueError\u001b[0m: Input contains NaN, infinity or a value too large for dtype('float64')."
     ]
    }
   ],
   "source": [
    "from sklearn.feature_selection import f_classif\n",
    "\n",
    "\"\"\"\n",
    "significant_features = []\n",
    "pvals = []\n",
    "for feature in x:\n",
    "    F, pval = f_classif(x[feature], y)\n",
    "    if pval[1][0] < 0.05:\n",
    "        significant_features.append(feature)\n",
    "        pvals.append(pval[1][0])\n",
    "\"\"\"\n",
    "\n",
    "f_classif(x, y)"
   ]
  },
  {
   "cell_type": "code",
   "execution_count": null,
   "metadata": {
    "collapsed": true
   },
   "outputs": [],
   "source": []
  },
  {
   "cell_type": "code",
   "execution_count": null,
   "metadata": {
    "collapsed": true
   },
   "outputs": [],
   "source": []
  }
 ],
 "metadata": {
  "kernelspec": {
   "display_name": "Python 2",
   "language": "python",
   "name": "python2"
  },
  "language_info": {
   "codemirror_mode": {
    "name": "ipython",
    "version": 2
   },
   "file_extension": ".py",
   "mimetype": "text/x-python",
   "name": "python",
   "nbconvert_exporter": "python",
   "pygments_lexer": "ipython2",
   "version": "2.7.8"
  }
 },
 "nbformat": 4,
 "nbformat_minor": 0
}
