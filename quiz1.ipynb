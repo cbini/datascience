{
 "metadata": {
  "name": "",
  "signature": "sha256:7efcb197011c15841eaa8ae52b3a48553f1ee59c5556bd27b6117c0d72de7642"
 },
 "nbformat": 3,
 "nbformat_minor": 0,
 "worksheets": [
  {
   "cells": [
    {
     "cell_type": "code",
     "collapsed": false,
     "input": [
      "%matplotlib inline\n",
      "\n",
      "import pandas as pd\n",
      "import seaborn as sns\n",
      "import matplotlib.pyplot as plt\n",
      "from __future__ import division\n",
      "pd.set_option('display.max_rows', 500)\n",
      "pd.set_option('display.max_columns', 500)\n",
      "pd.set_option('display.width', 1000)"
     ],
     "language": "python",
     "metadata": {},
     "outputs": [],
     "prompt_number": 19
    },
    {
     "cell_type": "code",
     "collapsed": false,
     "input": [
      "ads = pd.read_csv(\"https://gist.githubusercontent.com/podopie/be35a78b76501c7c63b0/raw/fcb6283e1ac0fcf60fc5ba43ea908680ee16e282/ads.csv\", skiprows=3, skipfooter=1, header=0)\n",
      "ads.head()"
     ],
     "language": "python",
     "metadata": {},
     "outputs": [
      {
       "html": [
        "<div style=\"max-height:1000px;max-width:1500px;overflow:auto;\">\n",
        "<table border=\"1\" class=\"dataframe\">\n",
        "  <thead>\n",
        "    <tr style=\"text-align: right;\">\n",
        "      <th></th>\n",
        "      <th>date</th>\n",
        "      <th>ad_id</th>\n",
        "      <th>strategy_group</th>\n",
        "      <th>description</th>\n",
        "      <th>spend</th>\n",
        "      <th>spend_wfees</th>\n",
        "      <th>impressions</th>\n",
        "      <th>clicks</th>\n",
        "    </tr>\n",
        "  </thead>\n",
        "  <tbody>\n",
        "    <tr>\n",
        "      <th>0</th>\n",
        "      <td> 2015-02-16 00:00:00</td>\n",
        "      <td>  7779</td>\n",
        "      <td> team_banana</td>\n",
        "      <td> Did you know there are 100s of bananas? Click ...</td>\n",
        "      <td> 903.86</td>\n",
        "      <td> 909.05</td>\n",
        "      <td> 7398</td>\n",
        "      <td> 1039</td>\n",
        "    </tr>\n",
        "    <tr>\n",
        "      <th>1</th>\n",
        "      <td> 2015-02-16 00:00:00</td>\n",
        "      <td> 10000</td>\n",
        "      <td> team_banana</td>\n",
        "      <td> Did you know there are 100s of bananas? Click ...</td>\n",
        "      <td> 904.82</td>\n",
        "      <td> 907.75</td>\n",
        "      <td> 9128</td>\n",
        "      <td> 1989</td>\n",
        "    </tr>\n",
        "    <tr>\n",
        "      <th>2</th>\n",
        "      <td> 2015-02-16 00:00:00</td>\n",
        "      <td>  9309</td>\n",
        "      <td> team_banana</td>\n",
        "      <td> Did you know there are 100s of bananas? Click ...</td>\n",
        "      <td> 196.61</td>\n",
        "      <td> 199.70</td>\n",
        "      <td> 9244</td>\n",
        "      <td> 1423</td>\n",
        "    </tr>\n",
        "    <tr>\n",
        "      <th>3</th>\n",
        "      <td> 2015-02-16 00:00:00</td>\n",
        "      <td>  4585</td>\n",
        "      <td> team_orange</td>\n",
        "      <td> Did you know there are 100s of bananas? Click ...</td>\n",
        "      <td> 703.92</td>\n",
        "      <td> 705.28</td>\n",
        "      <td> 1421</td>\n",
        "      <td>  241</td>\n",
        "    </tr>\n",
        "    <tr>\n",
        "      <th>4</th>\n",
        "      <td> 2015-02-16 00:00:00</td>\n",
        "      <td>  8923</td>\n",
        "      <td> team_banana</td>\n",
        "      <td> Did you know there are 100s of bananas? Click ...</td>\n",
        "      <td> 392.88</td>\n",
        "      <td> 400.12</td>\n",
        "      <td> 5245</td>\n",
        "      <td>  549</td>\n",
        "    </tr>\n",
        "  </tbody>\n",
        "</table>\n",
        "</div>"
       ],
       "metadata": {},
       "output_type": "pyout",
       "prompt_number": 20,
       "text": [
        "                  date  ad_id strategy_group                                        description   spend  spend_wfees  impressions  clicks\n",
        "0  2015-02-16 00:00:00   7779    team_banana  Did you know there are 100s of bananas? Click ...  903.86       909.05         7398    1039\n",
        "1  2015-02-16 00:00:00  10000    team_banana  Did you know there are 100s of bananas? Click ...  904.82       907.75         9128    1989\n",
        "2  2015-02-16 00:00:00   9309    team_banana  Did you know there are 100s of bananas? Click ...  196.61       199.70         9244    1423\n",
        "3  2015-02-16 00:00:00   4585    team_orange  Did you know there are 100s of bananas? Click ...  703.92       705.28         1421     241\n",
        "4  2015-02-16 00:00:00   8923    team_banana  Did you know there are 100s of bananas? Click ...  392.88       400.12         5245     549"
       ]
      }
     ],
     "prompt_number": 20
    },
    {
     "cell_type": "code",
     "collapsed": false,
     "input": [
      "subset = ads[(ads.ad_id == 200) & (ads.spend >= 300)]\n",
      "subset.head()"
     ],
     "language": "python",
     "metadata": {},
     "outputs": [
      {
       "html": [
        "<div style=\"max-height:1000px;max-width:1500px;overflow:auto;\">\n",
        "<table border=\"1\" class=\"dataframe\">\n",
        "  <thead>\n",
        "    <tr style=\"text-align: right;\">\n",
        "      <th></th>\n",
        "      <th>date</th>\n",
        "      <th>ad_id</th>\n",
        "      <th>strategy_group</th>\n",
        "      <th>description</th>\n",
        "      <th>spend</th>\n",
        "      <th>spend_wfees</th>\n",
        "      <th>impressions</th>\n",
        "      <th>clicks</th>\n",
        "    </tr>\n",
        "  </thead>\n",
        "  <tbody>\n",
        "  </tbody>\n",
        "</table>\n",
        "</div>"
       ],
       "metadata": {},
       "output_type": "pyout",
       "prompt_number": 24,
       "text": [
        "Empty DataFrame\n",
        "Columns: [date, ad_id, strategy_group, description, spend, spend_wfees, impressions, clicks]\n",
        "Index: []"
       ]
      }
     ],
     "prompt_number": 24
    },
    {
     "cell_type": "code",
     "collapsed": false,
     "input": [
      "ads_date = ads.groupby('date')\n",
      "print ads_date.spend.sum()\n",
      "\n",
      "ads_id = ads.groupby('ad_id')\n",
      "print ads_id.spend.sum()"
     ],
     "language": "python",
     "metadata": {},
     "outputs": [
      {
       "output_type": "stream",
       "stream": "stdout",
       "text": [
        "date\n",
        "2015-02-16 00:00:00    11199.81\n",
        "2015-02-17 00:00:00     9104.37\n",
        "2015-02-18 00:00:00    10366.52\n",
        "2015-02-19 00:00:00    10103.20\n",
        "2015-02-20 00:00:00     9893.92\n",
        "2015-02-21 00:00:00    10159.36\n",
        "2015-02-22 00:00:00    10377.71\n",
        "Name: spend, dtype: float64\n",
        "ad_id\n",
        "1763     3632.51\n",
        "2519     2511.48\n",
        "2703     2832.81\n",
        "3354     4696.96\n",
        "4088     3498.04\n",
        "4458     5047.95\n",
        "4585     3608.73\n",
        "4836     2888.07\n",
        "4887     3634.79\n",
        "6982     3790.15\n",
        "7224     4688.00\n",
        "7528     3838.03\n",
        "7779     3072.97\n",
        "7832     4772.74\n",
        "8005     3713.86\n",
        "8034     2386.49\n",
        "8923     3206.66\n",
        "9079     3717.56\n",
        "9309     3150.66\n",
        "10000    2516.43\n",
        "Name: spend, dtype: float64\n"
       ]
      }
     ],
     "prompt_number": 22
    },
    {
     "cell_type": "code",
     "collapsed": false,
     "input": [],
     "language": "python",
     "metadata": {},
     "outputs": []
    }
   ],
   "metadata": {}
  }
 ]
}