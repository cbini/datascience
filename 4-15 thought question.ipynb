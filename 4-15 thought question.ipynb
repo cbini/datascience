{
 "cells": [
  {
   "cell_type": "markdown",
   "metadata": {},
   "source": [
    "ecommerce (website & stores in cities)\n",
    "\n",
    "1. What kind of data should be collected?\n",
    "    - sales\n",
    "        - purchase location (online/storefront)\n",
    "        - item\n",
    "        - item type\n",
    "        - revenue\n",
    "    - visitors (walk-ins/page visits)\n",
    "        - number\n",
    "        - duration\n",
    "    - overhead costs\n",
    "\n",
    "2. What kind of questions/experiments should be asked/ran in order to improve business?\n",
    "    - which items sell better online? which items sell better in person?\n",
    "    - if someone buys something in person are they more likely to buy something online? other way around?\n",
    "    - do storefront sales justify their overhead costs relative to online sales?"
   ]
  }
 ],
 "metadata": {
  "kernelspec": {
   "display_name": "Python 2",
   "language": "python",
   "name": "python2"
  },
  "language_info": {
   "codemirror_mode": {
    "name": "ipython",
    "version": 2
   },
   "file_extension": ".py",
   "mimetype": "text/x-python",
   "name": "python",
   "nbconvert_exporter": "python",
   "pygments_lexer": "ipython2",
   "version": "2.7.9"
  }
 },
 "nbformat": 4,
 "nbformat_minor": 0
}
