{
 "metadata": {
  "name": "",
  "signature": "sha256:0bb7efe4c29cf44d4b8de449cdd66d0708f546ba97b3d791147ad5a748b2c872"
 },
 "nbformat": 3,
 "nbformat_minor": 0,
 "worksheets": [
  {
   "cells": [
    {
     "cell_type": "markdown",
     "metadata": {},
     "source": [
      "# Matrix Algebra\n",
      "\n",
      "### Matrix = 2D array of numbers (rows & columns)\n",
      "- in pandas, represented by a DataFrame\n",
      " \n",
      "### Vector = still a matirix, but only a 1D array of numbers\n",
      "- similar to a list in python\n",
      "\n",
      "### Matrix Math\n",
      "1. Start with top-left\n",
      "2. Pair with corresponding entry"
     ]
    },
    {
     "cell_type": "markdown",
     "metadata": {},
     "source": [
      "## Ordinary Least Squres Method \n",
      "1. multiply the input matrix by its transposed self\n",
      "2. invert the product -> 2x2 matrix\n",
      "3. multiply the input matrix by the vector of target values -> vector\n",
      "4. multiply the resulting matrix by the resulting vector\n",
      "5. first value is y-intercept, sencond value is x coefficient"
     ]
    },
    {
     "cell_type": "code",
     "collapsed": false,
     "input": [
      "import pandas as pd\n",
      "import numpy as np\n",
      "from sklearn import linear_model as lm\n",
      "from sklearn import metrics\n",
      "\n",
      "practice_set = pd.DataFrame({\n",
      "    'x': [3.385, 0.48, 1.35, 465, 36.33],  ## input values (matrix)\n",
      "    'y': [44.5, 15.5, 8.1, 423, 119.5],  ## target values (vector)\n",
      "})\n",
      "\n",
      "## specify each step in the formula manually via numpy\n",
      "A = np.array([[1, 1, 1, 1, 1], practice_set['x']]) ## create an array, appending a column of ones to make it a matrix\n",
      "#print np.linalg.inv(A.dot(A.T)).dot(A.dot(practice_set['y'])) ## do the matrix algrebra here\n",
      "\n",
      "## do the process automatically with sklearn\n",
      "model = lm.LinearRegression().fit(practice_set[['x']], practice_set['y'])\n",
      "print model.intercept_\n",
      "print model.coef_"
     ],
     "language": "python",
     "metadata": {},
     "outputs": [
      {
       "output_type": "stream",
       "stream": "stdout",
       "text": [
        "37.2008960793\n",
        "[ 0.83821876]\n"
       ]
      }
     ],
     "prompt_number": 20
    },
    {
     "cell_type": "code",
     "collapsed": false,
     "input": [
      "%matplotlib inline\n",
      "import pandas as pd\n",
      "from sklearn import linear_model as lm\n",
      "from sklearn.datasets import load_boston\n",
      "from sklearn import cross_validation as cv\n",
      "\n",
      "boston = load_boston()\n",
      "desc = boston.DESCR\n",
      "\n",
      "bostondf = pd.DataFrame(boston.data, columns=boston.feature_names)\n",
      "\n",
      "y_col = 'MEDV'\n",
      "\n",
      "bostondf[y_col] = boston.target\n",
      "\n",
      "x_cols = [\n",
      "    'CRIM',\n",
      "    'ZN',\n",
      "    'INDUS',\n",
      "    'CHAS',\n",
      "    'NOX',\n",
      "    'RM',\n",
      "    'AGE',\n",
      "    'DIS',\n",
      "    'RAD',\n",
      "    'TAX',\n",
      "    'PTRATIO',\n",
      "    'B',\n",
      "    'LSTAT',\n",
      "]\n",
      "\n",
      "x_train, x_test, y_train, y_test = cv.train_test_split(bostondf[x_cols],\n",
      "                                                           bostondf[y_col],\n",
      "                                                           test_size=0.333,\n",
      "                                                           random_state=1234)\n",
      "\n",
      "names = []\n",
      "test_r2 = []\n",
      "train_r2 = []\n",
      "\n",
      "names.append('LinearRegression')\n",
      "model = lm.LinearRegression().fit(x_test, y_test)\n",
      "test_r2.append(metrics.r2_score(y_test, model.predict(x_test)))\n",
      "model = lm.LinearRegression().fit(x_train, y_train)\n",
      "train_r2.append(metrics.r2_score(y_train, model.predict(x_train)))\n",
      "\n",
      "names.append('Ridge')\n",
      "model = lm.Ridge().fit(x_test, y_test)\n",
      "test_r2.append(metrics.r2_score(y_test, model.predict(x_test)))\n",
      "model = lm.Ridge().fit(x_train, y_train)\n",
      "train_r2.append(metrics.r2_score(y_train, model.predict(x_train)))\n",
      "\n",
      "names.append('Lasso')\n",
      "model = lm.Lasso().fit(x_test, y_test)\n",
      "test_r2.append(metrics.r2_score(y_test, model.predict(x_test)))\n",
      "model = lm.Lasso().fit(x_train, y_train)\n",
      "train_r2.append(metrics.r2_score(y_train, model.predict(x_train)))\n",
      "\n",
      "names.append('ElasticNet')\n",
      "model = lm.ElasticNet().fit(x_test, y_test)\n",
      "test_r2.append(metrics.r2_score(y_test, model.predict(x_test)))\n",
      "model = lm.ElasticNet().fit(x_train, y_train)\n",
      "train_r2.append(metrics.r2_score(y_train, model.predict(x_train)))\n",
      "\n",
      "print 'Lists:'\n",
      "print names\n",
      "print test_r2\n",
      "print train_r2\n",
      "print\n",
      "\n",
      "data_dict = {'names':names, 'test_r2':test_r2, 'train_r2':train_r2}\n",
      "omfg = pd.DataFrame(data_dict)\n",
      "omfg['diff'] = omfg.test_r2 - omfg.train_r2\n",
      "print 'Dataframe:'\n",
      "print omfg\n",
      "print\n",
      "\n",
      "plt.figure(figsize=(12,6))\n",
      "omfg['diff'].plot(kind='bar')\n",
      "plt.xticks(omfg.index, omfg.names)\n",
      "plt.show()"
     ],
     "language": "python",
     "metadata": {},
     "outputs": [
      {
       "output_type": "stream",
       "stream": "stdout",
       "text": [
        "Lists:\n",
        "['LinearRegression', 'Ridge', 'Lasso', 'ElasticNet']\n",
        "[0.80736076364456222, 0.80696432393956075, 0.75919358891486477, 0.73196072531732148]\n",
        "[0.72839057183952582, 0.72369309971235807, 0.6654330579205523, 0.67621827502671117]\n",
        "\n",
        "Dataframe:\n",
        "              names   test_r2  train_r2      diff\n",
        "0  LinearRegression  0.807361  0.728391  0.078970\n",
        "1             Ridge  0.806964  0.723693  0.083271\n",
        "2             Lasso  0.759194  0.665433  0.093761\n",
        "3        ElasticNet  0.731961  0.676218  0.055742\n",
        "\n"
       ]
      },
      {
       "metadata": {},
       "output_type": "display_data",
       "png": "[encoded data removed]",
       "text": [
        "<matplotlib.figure.Figure at 0x1bd04908>"
       ]
      }
     ]
    },
    {
     "cell_type": "code",
     "collapsed": false,
     "input": [],
     "language": "python",
     "metadata": {},
     "outputs": []
    }
   ],
   "metadata": {}
  }
 ]
}