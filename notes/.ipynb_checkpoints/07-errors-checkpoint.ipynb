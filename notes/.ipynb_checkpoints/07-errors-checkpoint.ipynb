{
 "metadata": {
  "name": "",
  "signature": "sha256:43116da1c4eec4c754fa1f7bfaf868a2d8021688486a890ac58e3d4573c01d94"
 },
 "nbformat": 3,
 "nbformat_minor": 0,
 "worksheets": []
}