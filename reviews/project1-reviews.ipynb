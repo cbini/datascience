{
 "metadata": {
  "name": "",
  "signature": "sha256:ea9a14827d93fa4cf57787ddd354bec9c619d78191316ec344f8c06581f51054"
 },
 "nbformat": 3,
 "nbformat_minor": 0,
 "worksheets": [
  {
   "cells": [
    {
     "cell_type": "markdown",
     "metadata": {},
     "source": [
      "# NYC Restaurant Inspection Data Analysis (*Zach Zeyuchen*)\n",
      "\n",
      "### Strengths\n",
      "- Interesting and relevant data set.\n",
      "- Thanks for the context on the grading system.  It definitely helped frame your analysis.\n",
      "- Converting the points to a 100 scale was a clever way to turn this data into something more recognizable.\n",
      "\n",
      "### Improvements\n",
      "- Think about how you can improve the narrative structure.  There is a lot of interesting data and findings.  However, it's sometimes hard to keep track of where I am in your thought process.  Try making more use of markdown cells instead of code comments to tell your story.\n",
      "\n",
      "### Code\n",
      "- Awesome usage of .apply() to clean up the cuisine column.  It's odd that there's not a more standardized way for them to record this--must not be a priority data point for the health department.\n",
      "\n",
      "### Next Steps\n",
      "- I'd definitely like to see the map you come up with.  I'm wondering if there is any bias for particular locations.\n",
      "- Include the specific violation codes next time.  That might uncover some nuances that weren't apparent in your analysis, such as differences between the bouroughs."
     ]
    },
    {
     "cell_type": "markdown",
     "metadata": {},
     "source": [
      "# Million Song Dataset (*Sally Isaacoff*)\n",
      "\n",
      "### Strengths\n",
      "- Really cool data set.  Great job leveraging python to wrangle it all into one folder and parse it into a usable format.\n",
      "- The orgnization made it easy to work through your analysis\n",
      "- Large variety of visualizations\n",
      "\n",
      "### Improvements\n",
      "- There's a lot to digest.  It'd be interesting if you narrowed the scope and dug deeper into one aspect, which it looks like you will be doing for the next project.\n",
      "\n",
      "### Code\n",
      "- Again, really impressed with the amount of python needed to get this into a data frame.  Thanks for explaining it step-by-step.\n",
      "\n",
      "### Questions\n",
      "- Too bad about the missing years--they were more than half of the observations.  Was there anything else that might indicate when they were made?\n",
      "\n",
      "### Next Steps\n",
      "- One question that jumps out instantly to me is if there is any correlation between particular words and the popularity of a song/artist."
     ]
    }
   ],
   "metadata": {}
  }
 ]
}