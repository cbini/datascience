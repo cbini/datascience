{
 "cells": [
  {
   "cell_type": "code",
   "execution_count": 12,
   "metadata": {
    "collapsed": false
   },
   "outputs": [],
   "source": [
    "bash = \"cat error.log | sed -n '/access denied/p' | sort\"\n",
    "bashsplit = bash.split(' | ')"
   ]
  },
  {
   "cell_type": "code",
   "execution_count": 33,
   "metadata": {
    "collapsed": false
   },
   "outputs": [
    {
     "ename": "AttributeError",
     "evalue": "'NoneType' object has no attribute 'groupdict'",
     "output_type": "error",
     "traceback": [
      "\u001b[1;31m---------------------------------------------------------------------------\u001b[0m",
      "\u001b[1;31mAttributeError\u001b[0m                            Traceback (most recent call last)",
      "\u001b[1;32m<ipython-input-33-2b40512a5a30>\u001b[0m in \u001b[0;36m<module>\u001b[1;34m()\u001b[0m\n\u001b[0;32m      8\u001b[0m \u001b[1;32mfor\u001b[0m \u001b[0mi\u001b[0m \u001b[1;32min\u001b[0m \u001b[0mrange\u001b[0m\u001b[1;33m(\u001b[0m\u001b[1;36m0\u001b[0m\u001b[1;33m,\u001b[0m \u001b[0mlen\u001b[0m\u001b[1;33m(\u001b[0m\u001b[0mbashsplit\u001b[0m\u001b[1;33m)\u001b[0m\u001b[1;33m)\u001b[0m\u001b[1;33m:\u001b[0m\u001b[1;33m\u001b[0m\u001b[0m\n\u001b[0;32m      9\u001b[0m     \u001b[0mm\u001b[0m \u001b[1;33m=\u001b[0m \u001b[0mlog_parser\u001b[0m\u001b[1;33m.\u001b[0m\u001b[0msearch\u001b[0m\u001b[1;33m(\u001b[0m\u001b[0mbashsplit\u001b[0m\u001b[1;33m[\u001b[0m\u001b[0mi\u001b[0m\u001b[1;33m]\u001b[0m\u001b[1;33m)\u001b[0m\u001b[1;33m\u001b[0m\u001b[0m\n\u001b[1;32m---> 10\u001b[1;33m     \u001b[1;32mprint\u001b[0m \u001b[0mm\u001b[0m\u001b[1;33m.\u001b[0m\u001b[0mgroupdict\u001b[0m\u001b[1;33m(\u001b[0m\u001b[1;33m)\u001b[0m\u001b[1;33m\u001b[0m\u001b[0m\n\u001b[0m",
      "\u001b[1;31mAttributeError\u001b[0m: 'NoneType' object has no attribute 'groupdict'"
     ]
    }
   ],
   "source": [
    "import re\n",
    "\n",
    "# format: (?P<field_name>regex)\n",
    "regex = r'(?P<program>\\s\\S) ?(?P<arguments>\\s\\S)'\n",
    "\n",
    "log_parser = re.compile(regex)\n",
    "    \n",
    "for i in range(0, len(bashsplit)):\n",
    "    m = log_parser.search(bashsplit[i])\n",
    "    print m.groupdict()"
   ]
  },
  {
   "cell_type": "code",
   "execution_count": 49,
   "metadata": {
    "collapsed": false
   },
   "outputs": [
    {
     "name": "stdout",
     "output_type": "stream",
     "text": [
      "['POST /static/img/congruence1.jpg HTTP/1.1 200', 'POST /static/img/team/arnold.png HTTP/1.1 404']\n",
      "(?P<ajax>\\w+\\s)(?P<filename>/(\\w+[\\s\\S])+\\s)HTTP/\\d.\\d (?P<status>\\d{3})\n",
      "{'status': '200', 'ajax': 'POST ', 'filename': '/static/img/congruence1.jpg '}\n",
      "{'status': '404', 'ajax': 'POST ', 'filename': '/static/img/team/arnold.png '}\n"
     ]
    }
   ],
   "source": [
    "## should identify AJAX call [POST], filename [congruence1.jpg], status call [200]\n",
    "\n",
    "weblog = \"\"\"POST /static/img/congruence1.jpg HTTP/1.1 200\n",
    "POST /static/img/team/arnold.png HTTP/1.1 404\"\"\"\n",
    "\n",
    "weblogsplit = weblog.split('\\n')\n",
    "print weblogsplit\n",
    "regex = r'(?P<ajax>\\w+\\s)(?P<filename>/(\\w+[\\s\\S])+\\s)HTTP/\\d.\\d (?P<status>\\d{3})'\n",
    "print regex\n",
    "\n",
    "log_parser = re.compile(regex)\n",
    "\n",
    "for i in range(0, len(weblogsplit)):\n",
    "    m = log_parser.search(weblogsplit[i])\n",
    "    print m.groupdict()"
   ]
  },
  {
   "cell_type": "code",
   "execution_count": 53,
   "metadata": {
    "collapsed": false
   },
   "outputs": [],
   "source": [
    "penalties = \"\"\"1ST PERIOD\n",
    "05:20   WPG Jiri Tlusty  Slashing against  Carl Hagelin\n",
    "14:25   NYR Mats Zuccarello  Tripping against  Jim Slater\n",
    "2ND PERIOD\n",
    "09:31   WPG Mathieu Perreault  Interference against  Dominic Moore\n",
    "13:31   NYR Rick Nash  Hooking against  Jacob Trouba\n",
    "3RD PERIOD\n",
    "19:21   WPG Dustin Byfuglien  Slashing against  Mats Zuccarello\"\"\"\n",
    "\n",
    "regex = r'(\\d{2}):(\\d{2})\\s+([A-Z]+)\\s+(\\w+\\s\\w+)\\s+(\\w+) against\\s+(\\w+\\s\\w+)'\n",
    "parser = re.compile(regex)\n",
    "\n",
    "add_minutes = 0\n",
    "\n",
    "for line in penalties:\n",
    "    if line == \"2ND PERIOD\":\n",
    "        add_minutes = 20\n",
    "    elif line == \"3RD PERIOD\":\n",
    "        add_minutes = 40\n",
    "\n",
    "    matches = parser.findall(line)\n",
    "    for match in matches:\n",
    "        minutes = int(match[0]) + add_minutes\n",
    "        print \"%d:%s|%s|%s|%s|%s\" % (minutes, match[1], match[2], match[3], match[4], match[5])"
   ]
  },
  {
   "cell_type": "code",
   "execution_count": 54,
   "metadata": {
    "collapsed": false
   },
   "outputs": [
    {
     "name": "stdout",
     "output_type": "stream",
     "text": [
      "49 1\n",
      "46 1\n",
      "47 2\n",
      "30 3\n",
      "36 1\n",
      "52 1\n",
      "73 1\n",
      "1 1\n",
      "0 9\n"
     ]
    }
   ],
   "source": [
    "csvfile = [\n",
    "    '36,0,3,0,1',\n",
    "    '73,1,3,0,1',\n",
    "    '30,0,3,0,1',\n",
    "    '49,1,3,0,1',\n",
    "    '47,1,11,0,1',\n",
    "    '47,0,11,1,1',\n",
    "    '46,0,5,0,1',\n",
    "    '30,0,3,0,1',\n",
    "    '52,0,4,0,1',\n",
    "    '30,0,3,0,1',\n",
    "]\n",
    "\n",
    "from collections import defaultdict\n",
    "\n",
    "age = defaultdict(int)\n",
    "hits = defaultdict(int)\n",
    "\n",
    "for row in csvfile:\n",
    "    a, b, c, d, e = row.split(',')\n",
    "    age[a] += 1\n",
    "    hits[d] += 1\n",
    "\n",
    "for k,v in age.items():\n",
    "    print k, v\n",
    "    \n",
    "for k,v in hits.items():\n",
    "    print k, v"
   ]
  },
  {
   "cell_type": "code",
   "execution_count": 55,
   "metadata": {
    "collapsed": false
   },
   "outputs": [
    {
     "name": "stdout",
     "output_type": "stream",
     "text": [
      "defaultdict(<type 'int'>, {'I': 6, 'W': 5})\n",
      "defaultdict(<type 'int'>, {'10:18 W': 2, '10:17 I': 5, '10:18 I': 1, '10:17 W': 3})\n"
     ]
    }
   ],
   "source": [
    "ipythonlogs = [\n",
    "    \"\"\"[I 10:17:42.633 NotebookApp] Using MathJax from CDN: https://cdn.mathjax.org/mathjax/latest/MathJax.js\"\"\",\n",
    "    \"\"\"[W 10:17:42.670 NotebookApp] Terminals not available (error was No module named terminado)\"\"\",\n",
    "    \"\"\"[I 10:17:42.670 NotebookApp] Serving notebooks from local directory: /Users/macbook/projects/\"\"\",\n",
    "    \"\"\"[I 10:17:42.670 NotebookApp] 0 active kernels\"\"\",\n",
    "    \"\"\"[I 10:17:42.670 NotebookApp] The IPython Notebook is running at: http://localhost:8888/\"\"\",\n",
    "    \"\"\"[I 10:17:42.670 NotebookApp] Use Control-C to stop this server and shut down all kernels (twice to skip confirmation).\"\"\",\n",
    "    \"\"\"[W 10:17:51.036 NotebookApp] 404 GET /api/kernels/ff97dfc7-e80a-49a5-9064-6d68d4fdbeb5/channels?session_id=7B3E0E7D6F024DA4A43433953CAF3B73 (::1): Kernel does not exist: ff97dfc7-e80a-49a5-9064-6d68d4fdbeb5\"\"\",\n",
    "    \"\"\"[W 10:17:51.051 NotebookApp] 404 GET /api/kernels/ff97dfc7-e80a-49a5-9064-6d68d4fdbeb5/channels?session_id=7B3E0E7D6F024DA4A43433953CAF3B73 (::1) 17.13ms referer=None\"\"\",\n",
    "    \"\"\"[I 10:18:09.405 NotebookApp] Kernel started: 82092ca9-abb3-4196-a967-0694c8a3bec4\"\"\",\n",
    "    \"\"\"[W 10:18:56.046 NotebookApp] 404 GET /api/kernels/ff97dfc7-e80a-49a5-9064-6d68d4fdbeb5/channels?session_id=7B3E0E7D6F024DA4A43433953CAF3B73 (::1): Kernel does not exist: ff97dfc7-e80a-49a5-9064-6d68d4fdbeb5\"\"\",\n",
    "    \"\"\"[W 10:18:56.047 NotebookApp] 404 GET /api/kernels/ff97dfc7-e80a-49a5-9064-6d68d4fdbeb5/channels?session_id=7B3E0E7D6F024DA4A43433953CAF3B73 (::1) 2.11ms referer=None\"\"\",\n",
    "]\n",
    "\n",
    "\n",
    "### aggregating the info [i] vs warning [w] should be relatively straightforward:\n",
    "loggertypes = defaultdict(int)\n",
    "for row in ipythonlogs:\n",
    "    logtype = row[1]\n",
    "    loggertypes[logtype] += 1\n",
    "\n",
    "print loggertypes\n",
    "\n",
    "### How do we aggregate types by minute?\n",
    "loggertypes = defaultdict(int)\n",
    "for row in ipythonlogs:\n",
    "    logtype = row[1:8]\n",
    "    # \"sort\" by time instead, so let's reorder the key:\n",
    "    logtype = ' '.join([logtype.split()[1],logtype.split()[0]]) \n",
    "    loggertypes[logtype] += 1\n",
    "\n",
    "print loggertypes"
   ]
  },
  {
   "cell_type": "code",
   "execution_count": 7,
   "metadata": {
    "collapsed": false
   },
   "outputs": [
    {
     "name": "stdout",
     "output_type": "stream",
     "text": [
      "{'time': '02:16', 'period': '1ST PERIOD', 'penalty': 'Fighting', 'player': None, 'team': 'ANA', 'given_to': 'Tim Jackman'}\n",
      "{'time': '02:16', 'period': '1ST PERIOD', 'penalty': 'Fighting', 'player': None, 'team': 'SJS', 'given_to': 'John Scott'}\n",
      "{'time': '12:53', 'period': '1ST PERIOD', 'penalty': 'Slashing', 'player': None, 'team': 'SJS', 'given_to': 'Adam Burish'}\n",
      "{'time': '15:38', 'period': '1ST PERIOD', 'penalty': 'Hooking', 'player': None, 'team': 'SJS', 'given_to': 'Matt Nieto'}\n",
      "{'time': '18:38', 'period': '1ST PERIOD', 'penalty': 'Hooking', 'player': None, 'team': 'ANA', 'given_to': 'Tim Jackman'}\n",
      "{'time': '04:35', 'period': '2ND PERIOD', 'penalty': 'Holding', 'player': None, 'team': 'SJS', 'given_to': 'Justin Braun'}\n",
      "{'time': '09:40', 'period': '2ND PERIOD', 'penalty': 'Hi-sticking', 'player': None, 'team': 'SJS', 'given_to': 'Scott Hannan'}\n",
      "{'time': '09:40', 'period': '2ND PERIOD', 'penalty': 'Embellishment', 'player': None, 'team': 'ANA', 'given_to': 'Sami Vatanen'}\n",
      "{'time': '09:52', 'period': '2ND PERIOD', 'penalty': 'Unsportsmanlike', 'player': None, 'team': 'SJS', 'given_to': 'Mirco Mueller'}\n",
      "{'time': '09:52', 'period': '2ND PERIOD', 'penalty': 'Unsportsmanlike', 'player': None, 'team': 'ANA', 'given_to': 'Ryan Getzlaf'}\n",
      "{'time': '15:23', 'period': '2ND PERIOD', 'penalty': 'Delay', 'player': None, 'team': 'SJS', 'given_to': 'Adam Burish'}\n",
      "{'time': '18:57', 'period': '2ND PERIOD', 'penalty': 'Fighting', 'player': None, 'team': 'SJS', 'given_to': 'Tommy Wingels'}\n",
      "{'time': '18:57', 'period': '2ND PERIOD', 'penalty': 'Fighting', 'player': None, 'team': 'ANA', 'given_to': 'Corey Perry'}\n",
      "{'time': '07:38', 'period': '3RD PERIOD', 'penalty': 'Holding', 'player': None, 'team': 'ANA', 'given_to': 'Sami Vatanen'}\n",
      "{'time': '10:18', 'period': '3RD PERIOD', 'penalty': 'Fighting', 'player': None, 'team': 'SJS', 'given_to': 'Joe Pavelski'}\n",
      "{'time': '10:18', 'period': '3RD PERIOD', 'penalty': 'Fighting', 'player': None, 'team': 'ANA', 'given_to': 'Ben Lovejoy'}\n",
      "{'time': '10:18', 'period': '3RD PERIOD', 'penalty': 'Roughing', 'player': None, 'team': 'ANA', 'given_to': 'Tim Jackman'}\n",
      "{'time': '10:18', 'period': '3RD PERIOD', 'penalty': 'Roughing', 'player': None, 'team': 'ANA', 'given_to': 'Tim Jackman'}\n",
      "{'time': '12:58', 'period': '3RD PERIOD', 'penalty': 'Misconduct', 'player': None, 'team': 'SJS', 'given_to': 'Justin Braun'}\n",
      "{'time': '12:58', 'period': '3RD PERIOD', 'penalty': 'Misconduct', 'player': None, 'team': 'ANA', 'given_to': 'Corey Perry'}\n",
      "{'time': '12:58', 'period': '3RD PERIOD', 'penalty': 'Roughing', 'player': None, 'team': 'ANA', 'given_to': 'Corey Perry'}\n",
      "{'time': '12:58', 'period': '3RD PERIOD', 'penalty': 'Roughing', 'player': None, 'team': 'SJS', 'given_to': 'Justin Braun'}\n",
      "{'time': '13:56', 'period': '3RD PERIOD', 'penalty': 'Roughing', 'player': None, 'team': 'SJS', 'given_to': 'Adam Burish'}\n",
      "{'time': '13:56', 'period': '3RD PERIOD', 'penalty': 'Misconduct', 'player': None, 'team': 'SJS', 'given_to': 'Adam Burish'}\n",
      "{'time': '13:56', 'period': '3RD PERIOD', 'penalty': 'Game', 'player': None, 'team': 'SJS', 'given_to': 'John Scott'}\n",
      "{'time': '13:56', 'period': '3RD PERIOD', 'penalty': 'Fighting', 'player': None, 'team': 'SJS', 'given_to': 'John Scott'}\n",
      "{'time': '13:56', 'period': '3RD PERIOD', 'penalty': 'Instigator', 'player': None, 'team': 'SJS', 'given_to': 'John Scott'}\n",
      "{'time': '13:56', 'period': '3RD PERIOD', 'penalty': 'Player', 'player': None, 'team': 'SJS', 'given_to': 'John Scott'}\n",
      "{'time': '13:56', 'period': '3RD PERIOD', 'penalty': 'Misconduct', 'player': None, 'team': 'ANA', 'given_to': 'Nate Thompson'}\n",
      "{'time': '13:56', 'period': '3RD PERIOD', 'penalty': 'Roughing', 'player': None, 'team': 'ANA', 'given_to': 'Nate Thompson'}\n",
      "{'time': '13:56', 'period': '3RD PERIOD', 'penalty': 'Roughing', 'player': None, 'team': 'ANA', 'given_to': 'Nate Thompson'}\n",
      "{'time': '13:56', 'period': '3RD PERIOD', 'penalty': 'Misconduct', 'player': None, 'team': 'ANA', 'given_to': 'Tim Jackman'}\n",
      "{'time': '16:54', 'period': '3RD PERIOD', 'penalty': 'Misconduct', 'player': None, 'team': 'ANA', 'given_to': 'Matt Beleskey'}\n",
      "{'time': '16:54', 'period': '3RD PERIOD', 'penalty': 'Slashing', 'player': None, 'team': 'ANA', 'given_to': 'William Karlsson'}\n",
      "{'time': '16:54', 'period': '3RD PERIOD', 'penalty': 'Fighting', 'player': None, 'team': 'ANA', 'given_to': 'Ryan Getzlaf'}\n",
      "{'time': '16:54', 'period': '3RD PERIOD', 'penalty': 'Fighting', 'player': None, 'team': 'SJS', 'given_to': 'James Sheppard'}\n",
      "{'time': '16:54', 'period': '3RD PERIOD', 'penalty': 'Misconduct', 'player': None, 'team': 'ANA', 'given_to': 'Ryan Kesler'}\n"
     ]
    }
   ],
   "source": [
    "import re \n",
    "\n",
    "penalties = \"\"\"1ST PERIOD\n",
    "02:16   ANA Tim Jackman  Fighting (maj) against  John Scott\n",
    "02:16   SJS John Scott  Fighting (maj) against  Tim Jackman\n",
    "12:53   SJS Adam Burish  Slashing against  Tim Jackman\n",
    "15:38   SJS Matt Nieto  Hooking against  Matt Beleskey\n",
    "18:38   ANA Tim Jackman  Hooking against  Tommy Wingels\n",
    "2ND PERIOD\n",
    "04:35   SJS Justin Braun  Holding against  Jakob Silfverberg\n",
    "09:40   SJS Scott Hannan  Hi-sticking against  Sami Vatanen\n",
    "09:40   ANA Sami Vatanen  Embellishment against  Scott Hannan\n",
    "09:52   SJS Mirco Mueller  Unsportsmanlike conduct against  Ryan Getzlaf\n",
    "09:52   ANA Ryan Getzlaf  Unsportsmanlike conduct against  Mirco Mueller\n",
    "15:23   SJS Adam Burish  Delay Gm - Face-off Violation\n",
    "18:57   SJS Tommy Wingels  Fighting (maj) against  Corey Perry\n",
    "18:57   ANA Corey Perry  Fighting (maj) against  Tommy Wingels\n",
    "3RD PERIOD\n",
    "07:38   ANA Sami Vatanen  Holding against  Tommy Wingels\n",
    "10:18   SJS Joe Pavelski  Fighting (maj) against  Ben Lovejoy\n",
    "10:18   ANA Ben Lovejoy  Fighting (maj) against  Joe Pavelski\n",
    "10:18   ANA Tim Jackman  Roughing against  Marc-Edouard Vlasic\n",
    "10:18   ANA Tim Jackman  Roughing against  Marc-Edouard Vlasic\n",
    "12:58   SJS Justin Braun  Misconduct (10 min) against  Corey Perry\n",
    "12:58   ANA Corey Perry  Misconduct (10 min) against  Justin Braun\n",
    "12:58   ANA Corey Perry  Roughing against  Justin Braun\n",
    "12:58   SJS Justin Braun  Roughing against  Corey Perry\n",
    "13:56   SJS Adam Burish  Roughing against  Nate Thompson\n",
    "13:56   SJS Adam Burish  Misconduct (10 min)\n",
    "13:56   SJS John Scott  Game misconduct\n",
    "13:56   SJS John Scott  Fighting (maj) against  Tim Jackman\n",
    "13:56   SJS John Scott  Instigator against  Tim Jackman\n",
    "13:56   SJS John Scott  Player leaves bench - bench against  Hampus Lindholm\n",
    "13:56   ANA Nate Thompson  Misconduct (10 min)\n",
    "13:56   ANA Nate Thompson  Roughing against  Adam Burish\n",
    "13:56   ANA Nate Thompson  Roughing against  Adam Burish\n",
    "13:56   ANA Tim Jackman  Misconduct (10 min) against  John Scott\n",
    "16:54   ANA Matt Beleskey  Misconduct (10 min)\n",
    "16:54   ANA William Karlsson  Slashing against  Marc-Edouard Vlasic\n",
    "16:54   ANA Ryan Getzlaf  Fighting (maj) against  James Sheppard\n",
    "16:54   SJS James Sheppard  Fighting (maj) against  Ryan Getzlaf\n",
    "16:54   ANA Ryan Kesler  Misconduct (10 min)\n",
    "\"\"\"\n",
    "\n",
    "penalties_period = re.split(r'(\\d{1}\\w{2} PERIOD)', penalties) ## split data by period\n",
    "penalties_period = [i for i in penalties_period if i != ''] ## remove any blank strings\n",
    "\n",
    "clean_penalties = []\n",
    "\n",
    "r_range = range(len(penalties_period))[0::2] ## only want to iterate every other item\n",
    "\n",
    "for r in  r_range:\n",
    "    period = penalties_period[r] ## base iterator is the period name\n",
    "    penalties_period_split = [i for i in penalties_period[r + 1].split('\\n') if i != ''] ## split associated data and remove blanks\n",
    "    penalties_period_concat = [period + '  ' + i for i in penalties_period_split] ## concat period with data\n",
    "    clean_penalties.extend(penalties_period_concat) ## append to final list\n",
    "\n",
    "penalty_string = r'(?P<period>(\\d{1}\\w{2} PERIOD))  (?P<time>\\d{2}:\\d{2})   (?P<team>\\w{3}) (?P<given_to>\\w+ \\w+)  (?P<penalty>[\\w\\(\\-\\)]+| )(\\s{2})?(?P<player>\\w+ \\w+)??'\n",
    "penalty_parser = re.compile(penalty_string)\n",
    "for i in range(0, len(clean_penalties)):\n",
    "    m = penalty_parser.search(clean_penalties[i])\n",
    "    print m.groupdict()"
   ]
  },
  {
   "cell_type": "code",
   "execution_count": 45,
   "metadata": {
    "collapsed": false
   },
   "outputs": [
    {
     "name": "stdout",
     "output_type": "stream",
     "text": [
      "[('the', 1), ('quick', 1), ('brown', 1), ('fox', 1), ('jumped', 1), ('over', 1), ('the', 1), ('lazy', 1), ('dog', 1)]\n"
     ]
    }
   ],
   "source": [
    "def mapper(line):\n",
    "    result = []    \n",
    "    line = line.strip() ## remove leading and trailing whitespace    \n",
    "    line = re.sub('[!\"§$%&/()=?*#()\\[\\],.<>:;~_-]',\"\", line) ## remove odd symbols from the text    \n",
    "    words = line.split(\" \") ## split the line into words\n",
    "    for word in words: ## insert the cleaned words into the results list\n",
    "        result.append((word, 1))    \n",
    "    return result ## output is a list of (key, value) pairs\n",
    "\n",
    "print mapper('the quick brown fox jumped over the lazy dog')"
   ]
  },
  {
   "cell_type": "code",
   "execution_count": 51,
   "metadata": {
    "collapsed": false
   },
   "outputs": [],
   "source": [
    "def reducer(key, values):\n",
    "    return key, sum(values) \n",
    "\n",
    "def shuffle(words, print_shuffle=False):\n",
    "    tmp = \"\"\n",
    "    val_list = []\n",
    "    for i in words:\n",
    "        if tmp and i[0] != tmp:\n",
    "            if print_shuffle:\n",
    "                print tmp, val_list\n",
    "            print reducer(tmp,val_list)\n",
    "            val_list=[]\n",
    "        tmp = i[0]\n",
    "        val_list.append(i[1])\n",
    "    # Don't forget to print out the last key value pair!\n",
    "    if print_shuffle:\n",
    "        print tmp, val_list\n",
    "    print reducer(tmp,val_list)"
   ]
  },
  {
   "cell_type": "code",
   "execution_count": 53,
   "metadata": {
    "collapsed": false
   },
   "outputs": [
    {
     "name": "stdout",
     "output_type": "stream",
     "text": [
      "brown [1]\n",
      "('brown', 1)\n",
      "dog [1]\n",
      "('dog', 1)\n",
      "fox [1]\n",
      "('fox', 1)\n",
      "jumped [1]\n",
      "('jumped', 1)\n",
      "lazy [1]\n",
      "('lazy', 1)\n",
      "over [1]\n",
      "('over', 1)\n",
      "quick [1]\n",
      "('quick', 1)\n",
      "the [1, 1]\n",
      "('the', 2)\n"
     ]
    }
   ],
   "source": [
    "# while this looks \"backwards,\" mapper is called first,\n",
    "# then we sort,\n",
    "# then shuffle runs the reducer.\n",
    "shuffle(sorted(mapper('the quick brown fox jumped over the lazy dog')), True)"
   ]
  },
  {
   "cell_type": "code",
   "execution_count": null,
   "metadata": {
    "collapsed": true
   },
   "outputs": [],
   "source": [
    "import multiprocessing\n",
    "\n",
    "def word_mapper(word):\n",
    "    return (word, 1)\n",
    "\n",
    "line = 'big big data big data science!'\n",
    "words = line.split()\n",
    "pool = multiprocessing.Pool(len(words))\n",
    "\n",
    "mapped_words = pool.map(word_mapper, words)\n",
    "pool.terminate()\n",
    "\n",
    "shuffle(mapped_words)"
   ]
  },
  {
   "cell_type": "code",
   "execution_count": null,
   "metadata": {
    "collapsed": true
   },
   "outputs": [],
   "source": []
  }
 ],
 "metadata": {
  "kernelspec": {
   "display_name": "Python 2",
   "language": "python",
   "name": "python2"
  },
  "language_info": {
   "codemirror_mode": {
    "name": "ipython",
    "version": 2
   },
   "file_extension": ".py",
   "mimetype": "text/x-python",
   "name": "python",
   "nbconvert_exporter": "python",
   "pygments_lexer": "ipython2",
   "version": "2.7.8"
  }
 },
 "nbformat": 4,
 "nbformat_minor": 0
}
