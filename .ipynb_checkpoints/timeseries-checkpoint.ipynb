{
 "metadata": {
  "name": "",
  "signature": "sha256:20af2768a1f55e7d2ad5655b3df4ab6df19bc2ff7256fe0d08972ce72e313800"
 },
 "nbformat": 3,
 "nbformat_minor": 0,
 "worksheets": []
}