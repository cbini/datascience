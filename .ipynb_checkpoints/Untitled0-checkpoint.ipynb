{
 "metadata": {
  "name": "",
  "signature": "sha256:6f7d9c38a4a47b0aefcf4e5b6547672a99b36e8b696bf1b610c0302d055158d3"
 },
 "nbformat": 3,
 "nbformat_minor": 0,
 "worksheets": [
  {
   "cells": [
    {
     "cell_type": "code",
     "collapsed": false,
     "input": [
      "from db import DB\n",
      "import requests\n",
      "import pandas as pd\n",
      "\n",
      "db = DB(profile=\"NARDO\")\n",
      "\n",
      "r = requests.get('https://raw.githubusercontent.com/TEAMSchools/mandi/master/XC/v_XC$roster_clean.sql').text\n",
      "r_list = r.split(\"\\n\")\n",
      "r_body = r_list[5:]\n",
      "sql = \" \".join(r_body)\n",
      "\n",
      "df = db.query(sql)\n",
      "\n",
      "print df.head()\n",
      "df.describe()"
     ],
     "language": "python",
     "metadata": {},
     "outputs": [
      {
       "output_type": "stream",
       "stream": "stderr",
       "text": [
        "Refreshing schema. Please wait...done!\n"
       ]
      },
      {
       "output_type": "stream",
       "stream": "stdout",
       "text": [
        "    schoolid  academic_year  student_number      student_name  \\\n",
        "0  133570965           2014           10673  Branham, Jessica   \n",
        "1  133570965           2014           12788  Crooks, Emizhane   \n",
        "2  133570965           2014           12769     Johnson, Tara   \n",
        "3  133570965           2014           12710  Prince, Charisma   \n",
        "4  133570965           2014           12136  Williams, Ja'mya   \n",
        "\n",
        "                  program start_term end_term  \n",
        "0  Culture Club (Example)       Fall   Winter  \n",
        "1       Basketball, Girls     Winter   Winter  \n",
        "2       Basketball, Girls     Winter   Winter  \n",
        "3       Basketball, Girls     Winter   Winter  \n",
        "4       Basketball, Girls     Winter   Winter  \n"
       ]
      },
      {
       "html": [
        "<div style=\"max-height:1000px;max-width:1500px;overflow:auto;\">\n",
        "<table border=\"1\" class=\"dataframe\">\n",
        "  <thead>\n",
        "    <tr style=\"text-align: right;\">\n",
        "      <th></th>\n",
        "      <th>schoolid</th>\n",
        "      <th>academic_year</th>\n",
        "      <th>student_number</th>\n",
        "    </tr>\n",
        "  </thead>\n",
        "  <tbody>\n",
        "    <tr>\n",
        "      <th>count</th>\n",
        "      <td> 9.220000e+02</td>\n",
        "      <td>  922.000000</td>\n",
        "      <td>   922.000000</td>\n",
        "    </tr>\n",
        "    <tr>\n",
        "      <th>mean</th>\n",
        "      <td> 8.036782e+06</td>\n",
        "      <td> 2013.454447</td>\n",
        "      <td> 12169.754881</td>\n",
        "    </tr>\n",
        "    <tr>\n",
        "      <th>std</th>\n",
        "      <td> 3.163512e+07</td>\n",
        "      <td>    0.498191</td>\n",
        "      <td>   747.028450</td>\n",
        "    </tr>\n",
        "    <tr>\n",
        "      <th>min</th>\n",
        "      <td> 7.325200e+04</td>\n",
        "      <td> 2013.000000</td>\n",
        "      <td> 10209.000000</td>\n",
        "    </tr>\n",
        "    <tr>\n",
        "      <th>25%</th>\n",
        "      <td> 7.325200e+04</td>\n",
        "      <td> 2013.000000</td>\n",
        "      <td> 11655.750000</td>\n",
        "    </tr>\n",
        "    <tr>\n",
        "      <th>50%</th>\n",
        "      <td> 7.325200e+04</td>\n",
        "      <td> 2013.000000</td>\n",
        "      <td> 12002.500000</td>\n",
        "    </tr>\n",
        "    <tr>\n",
        "      <th>75%</th>\n",
        "      <td> 7.325200e+04</td>\n",
        "      <td> 2014.000000</td>\n",
        "      <td> 12827.000000</td>\n",
        "    </tr>\n",
        "    <tr>\n",
        "      <th>max</th>\n",
        "      <td> 1.335710e+08</td>\n",
        "      <td> 2014.000000</td>\n",
        "      <td> 14266.000000</td>\n",
        "    </tr>\n",
        "  </tbody>\n",
        "</table>\n",
        "</div>"
       ],
       "metadata": {},
       "output_type": "pyout",
       "prompt_number": 1,
       "text": [
        "           schoolid  academic_year  student_number\n",
        "count  9.220000e+02     922.000000      922.000000\n",
        "mean   8.036782e+06    2013.454447    12169.754881\n",
        "std    3.163512e+07       0.498191      747.028450\n",
        "min    7.325200e+04    2013.000000    10209.000000\n",
        "25%    7.325200e+04    2013.000000    11655.750000\n",
        "50%    7.325200e+04    2013.000000    12002.500000\n",
        "75%    7.325200e+04    2014.000000    12827.000000\n",
        "max    1.335710e+08    2014.000000    14266.000000"
       ]
      }
     ]
    },
    {
     "cell_type": "code",
     "collapsed": false,
     "input": [],
     "language": "python",
     "metadata": {},
     "outputs": []
    }
   ],
   "metadata": {}
  }
 ]
}