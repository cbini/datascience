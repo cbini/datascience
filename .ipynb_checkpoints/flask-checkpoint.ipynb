{
 "cells": [
  {
   "cell_type": "code",
   "execution_count": 15,
   "metadata": {
    "collapsed": false
   },
   "outputs": [
    {
     "name": "stdout",
     "output_type": "stream",
     "text": [
      "add_one: 6\n",
      "outer: 4\n",
      "38\n",
      "101\n"
     ]
    }
   ],
   "source": [
    "## decorator intro\n",
    "\n",
    "## take a number, add 1 to it\n",
    "def add_one(x):\n",
    "    return x + 1\n",
    "    \n",
    "print 'add_one:', add_one(5)\n",
    "\n",
    "\n",
    "## inner function adds one to number and returns, outer function returns inner function\n",
    "def outer(x):\n",
    "    def inner():\n",
    "        return x + 1\n",
    "    return inner\n",
    "\n",
    "print_three_add_one = outer(3)\n",
    "print 'outer:', print_three_add_one()\n",
    "\n",
    "\n",
    "## takes a function, takes a number, applies the function to the number and adds one, returns the output\n",
    "def add_one_dec(func):\n",
    "    def add_one(x):\n",
    "        return func(x) + 1\n",
    "    return add_one\n",
    "\n",
    "something = add_one_dec(poly)\n",
    "print something(6)\n",
    "\n",
    "\n",
    "## applies function as decorator, wraps around function\n",
    "@add_one_dec\n",
    "def poly(x):\n",
    "    return x**2\n",
    "\n",
    "print poly(10)"
   ]
  },
  {
   "cell_type": "code",
   "execution_count": 16,
   "metadata": {
    "collapsed": false
   },
   "outputs": [
    {
     "data": {
      "text/plain": [
       "'\\nmsd/ -- code for using the million song dataset\\nstatic/ -- CSS and code that are manually changed\\ntemplates/ -- HTML base (\"views\")\\nlyrics.csv -- CSV of lyrics\\nlyrics_classifier.py -- class of classifier and other functions\\nschema.sql -- creates database table for storing results\\n'"
      ]
     },
     "execution_count": 16,
     "metadata": {},
     "output_type": "execute_result"
    }
   ],
   "source": [
    "\"\"\"\n",
    "msd/ -- code for using the million song dataset\n",
    "static/ -- CSS and code that are manually changed\n",
    "templates/ -- HTML base (\"views\")\n",
    "lyrics.csv -- CSV of lyrics\n",
    "lyrics_classifier.py -- class of classifier and other functions\n",
    "schema.sql -- creates database table for storing results\n",
    "\"\"\""
   ]
  },
  {
   "cell_type": "code",
   "execution_count": 17,
   "metadata": {
    "collapsed": false
   },
   "outputs": [
    {
     "ename": "ImportError",
     "evalue": "No module named msd.stem",
     "output_type": "error",
     "traceback": [
      "\u001b[1;31m---------------------------------------------------------------------------\u001b[0m",
      "\u001b[1;31mImportError\u001b[0m                               Traceback (most recent call last)",
      "\u001b[1;32m<ipython-input-17-8f2146496033>\u001b[0m in \u001b[0;36m<module>\u001b[1;34m()\u001b[0m\n\u001b[0;32m     10\u001b[0m \u001b[1;33m\u001b[0m\u001b[0m\n\u001b[0;32m     11\u001b[0m \u001b[1;31m# Local imports for the Million Song Dataset stemming algorithm\u001b[0m\u001b[1;33m\u001b[0m\u001b[1;33m\u001b[0m\u001b[0m\n\u001b[1;32m---> 12\u001b[1;33m \u001b[1;32mfrom\u001b[0m \u001b[0mmsd\u001b[0m\u001b[1;33m.\u001b[0m\u001b[0mstem\u001b[0m \u001b[1;32mimport\u001b[0m \u001b[0mtransformLyrics\u001b[0m\u001b[1;33m\u001b[0m\u001b[0m\n\u001b[0m\u001b[0;32m     13\u001b[0m \u001b[1;33m\u001b[0m\u001b[0m\n\u001b[0;32m     14\u001b[0m \u001b[1;32mclass\u001b[0m \u001b[0mLyricsClf\u001b[0m\u001b[1;33m(\u001b[0m\u001b[1;33m)\u001b[0m\u001b[1;33m:\u001b[0m\u001b[1;33m\u001b[0m\u001b[0m\n",
      "\u001b[1;31mImportError\u001b[0m: No module named msd.stem"
     ]
    }
   ],
   "source": [
    "\"\"\"Lyrics classifier for Flask application\"\"\"\n",
    "\n",
    "# Our familiar imports  \n",
    "import pandas as pd\n",
    "from sklearn.feature_extraction.text import CountVectorizer\n",
    "from sklearn.naive_bayes import MultinomialNB\n",
    "\n",
    "# A new import\n",
    "import pickle\n",
    "\n",
    "# Local imports for the Million Song Dataset stemming algorithm\n",
    "from msd.stem import transformLyrics\n",
    "\n",
    "class LyricsClf():\n",
    "    \"\"\"A MultinomialNB classifier for predicting artists from lyrics.\n",
    "    Offers train, save, and load routines for offline and startup\n",
    "    purposes. Offers predictArtist for online use.\n",
    "    \"\"\"\n",
    "    def __init__(self,picklefile=None):\n",
    "        \"\"\"Constructor that creates an empty artistLabels dictionary,\n",
    "        a CountVectorizer placeholder, and a classifier placeholder.\n",
    "        If a picklefile is specified, the returned object is instantiated\n",
    "        from a pickled version on disk.\n",
    "        \"\"\"\n",
    "        self.artistLabels = dict()\n",
    "        self.vectorizer = None\n",
    "        self.clf = None\n",
    "        if picklefile:\n",
    "            self.load(picklefile)\n",
    "\n",
    "    def makeArtistLabels(self,artistList):\n",
    "        \"\"\"Creates a mapping between artist names and\n",
    "        integer class labels.\n",
    "        \"\"\"\n",
    "        for e, artist in enumerate(artistList):\n",
    "            self.artistLabels[artist] = e\n",
    "        pass\n",
    "\n",
    "    def getLabel(self,artist):\n",
    "        \"\"\"Returns the integer label for a given artist.\n",
    "        Returns -1 if an artist does not exist.\n",
    "        \"\"\"\n",
    "        if artist in self.artistLabels.keys():\n",
    "            return self.artistLabels[artist]\n",
    "        else:\n",
    "            return -1\n",
    "\n",
    "    def predictArtist(self,lyrics):\n",
    "        \"\"\"Returns an artist name given sample song lyrics.\n",
    "        Applies the Million Song Dataset stemming routine to\n",
    "        the lyrics (pre-processing), vectorizes the lyrics,\n",
    "        and runs them through the MultinomialNB classifier.\n",
    "        Returns the artist name associated with the predicted\n",
    "        label.\n",
    "        \"\"\"\n",
    "        transformed_lyrics = transformLyrics(lyrics)\n",
    "        df = pd.DataFrame({'lyrics':[transformed_lyrics]})\n",
    "        X = self.vectorizer.transform(df['lyrics'])\n",
    "        y = clf.predict(X)\n",
    "        for artist, label in self.artistLabels.items():\n",
    "            if label == y:\n",
    "                return artist\n",
    "        return \"Artist not found (predicted label: %d)\" % y\n",
    "\n",
    "    def train(self,csvfile):\n",
    "        \"\"\"Read in a csv of lyrics then do the following:\n",
    "        - Turn artist names into class labels\n",
    "        - Build a CountVectorizer\n",
    "        - Define the classifier's training inputs and outputs\n",
    "        - Instantiate the classifier\n",
    "        - Train the classifier\n",
    "        \"\"\"\n",
    "        # Read the input file\n",
    "        df = pd.read_csv(csvfile)\n",
    "        \n",
    "        # Create a mapping of artist (string) to label (integer)\n",
    "        self.makeArtistLabels(df['artist'].unique())        \n",
    "        \n",
    "        # Create a new column, Label, which will be the model's output label\n",
    "        df['label'] = df['artist'].apply(self.getLabel)\n",
    "        \n",
    "        # Create the input and output for training the classifier\n",
    "        self.vectorizer = CountVectorizer()\n",
    "        X = self.vectorizer.fit_transform(df['lyrics'])\n",
    "        y = df['label']\n",
    "        \n",
    "        # Instantiate and train the classifier\n",
    "        self.clf = MultinomialNB()\n",
    "        self.clf.fit(X, y)\n",
    "        \n",
    "    def save(self,picklefile):\n",
    "        \"\"\"Save this LyricsClf object to disk as picklefile.\"\"\"\n",
    "        pickle.dump(self, open(picklefile, 'wb'))        \n",
    "\n",
    "    def load(self,picklefile):\n",
    "        \"\"\"Load a LyricsClf object from picklefile.\n",
    "        Return this loaded object for future use.\n",
    "        \"\"\"\n",
    "        loaded = pickle.load(open(picklefile, 'rb'))\n",
    "        self.artistLabels = loaded.artistLabels\n",
    "        self.vectorizer = loaded.vectorizer\n",
    "        self.clf = loaded.clf\n",
    "        return self\n",
    "\n",
    "# end of LyricsClf class"
   ]
  },
  {
   "cell_type": "code",
   "execution_count": 22,
   "metadata": {
    "collapsed": false
   },
   "outputs": [
    {
     "name": "stdout",
     "output_type": "stream",
     "text": [
      "0 a\n",
      "1 b\n",
      "2 c\n"
     ]
    }
   ],
   "source": [
    "artistList = ['a', 'b', 'c']\n",
    "\n",
    "for e, artist in enumerate(artistList):\n",
    "    print e, artist"
   ]
  },
  {
   "cell_type": "code",
   "execution_count": null,
   "metadata": {
    "collapsed": true
   },
   "outputs": [],
   "source": []
  }
 ],
 "metadata": {
  "kernelspec": {
   "display_name": "Python 2",
   "language": "python",
   "name": "python2"
  },
  "language_info": {
   "codemirror_mode": {
    "name": "ipython",
    "version": 2
   },
   "file_extension": ".py",
   "mimetype": "text/x-python",
   "name": "python",
   "nbconvert_exporter": "python",
   "pygments_lexer": "ipython2",
   "version": "2.7.9"
  }
 },
 "nbformat": 4,
 "nbformat_minor": 0
}
