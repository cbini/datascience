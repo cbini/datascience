{
 "cells": [
  {
   "cell_type": "markdown",
   "metadata": {},
   "source": [
    "# Motivation\n",
    "\n",
    "Scheduling a high school is one of the most challenging logistical problems that a school district needs to solve for, and it needs to do so on an annual basis.  Not only do you need to factor in student placements, but you must also consider teacher availability, the bell schedule, space constraints, and course demand.\n",
    "\n",
    "In order to be as effective as possible, the scheduling process needs to take place *well* in advance of summer break.  Otherwise, you can get hamstrung by a missing key dependency (e.g. you require more sections than there are available teachers) or end up with all-too-common disaster of having school in session without anywhere for the students to go.\n",
    "\n",
    "One possible way to combat this would be to be able to accurately predict how likely a student is to fail a course, given what we know about them and historical data for each course.  If we can build a reliable model, we can start planning earlier in the year for key dependencies, such as:\n",
    "- how many sections of a course we need to offer\n",
    "- how many students may need to take summer school courses\n",
    "- how many teachers we need in order to serve all sections\n",
    "- how much space we can allot at a given time of day\n",
    "\n",
    "This analysis will pull on three years of historical grades to build a model that will predict whether a student is on track to pass or fail a given course."
   ]
  },
  {
   "cell_type": "code",
   "execution_count": 1,
   "metadata": {
    "collapsed": false
   },
   "outputs": [
    {
     "name": "stdout",
     "output_type": "stream",
     "text": [
      "(40190, 7)\n"
     ]
    },
    {
     "data": {
      "text/html": [
       "<div style=\"max-height:1000px;max-width:1500px;overflow:auto;\">\n",
       "<table border=\"1\" class=\"dataframe\">\n",
       "  <thead>\n",
       "    <tr style=\"text-align: right;\">\n",
       "      <th></th>\n",
       "      <th>academic_year</th>\n",
       "      <th>att_pct</th>\n",
       "      <th>n_demerits</th>\n",
       "      <th>course_number</th>\n",
       "      <th>term</th>\n",
       "      <th>grade_pct</th>\n",
       "      <th>failed_course</th>\n",
       "    </tr>\n",
       "    <tr>\n",
       "      <th>studentid</th>\n",
       "      <th></th>\n",
       "      <th></th>\n",
       "      <th></th>\n",
       "      <th></th>\n",
       "      <th></th>\n",
       "      <th></th>\n",
       "      <th></th>\n",
       "    </tr>\n",
       "  </thead>\n",
       "  <tbody>\n",
       "    <tr>\n",
       "      <th>64</th>\n",
       "      <td>2011</td>\n",
       "      <td>96</td>\n",
       "      <td>4</td>\n",
       "      <td>DRA10</td>\n",
       "      <td>Q1</td>\n",
       "      <td>88</td>\n",
       "      <td>0</td>\n",
       "    </tr>\n",
       "    <tr>\n",
       "      <th>64</th>\n",
       "      <td>2011</td>\n",
       "      <td>96</td>\n",
       "      <td>4</td>\n",
       "      <td>ENG40</td>\n",
       "      <td>Q1</td>\n",
       "      <td>72</td>\n",
       "      <td>0</td>\n",
       "    </tr>\n",
       "    <tr>\n",
       "      <th>64</th>\n",
       "      <td>2011</td>\n",
       "      <td>96</td>\n",
       "      <td>4</td>\n",
       "      <td>HIST40</td>\n",
       "      <td>Q1</td>\n",
       "      <td>74</td>\n",
       "      <td>0</td>\n",
       "    </tr>\n",
       "    <tr>\n",
       "      <th>64</th>\n",
       "      <td>2011</td>\n",
       "      <td>96</td>\n",
       "      <td>4</td>\n",
       "      <td>MATH40</td>\n",
       "      <td>Q1</td>\n",
       "      <td>76</td>\n",
       "      <td>1</td>\n",
       "    </tr>\n",
       "    <tr>\n",
       "      <th>64</th>\n",
       "      <td>2011</td>\n",
       "      <td>96</td>\n",
       "      <td>4</td>\n",
       "      <td>RHET40</td>\n",
       "      <td>Q1</td>\n",
       "      <td>89</td>\n",
       "      <td>0</td>\n",
       "    </tr>\n",
       "  </tbody>\n",
       "</table>\n",
       "</div>"
      ],
      "text/plain": [
       "           academic_year  att_pct  n_demerits course_number term  grade_pct  \\\n",
       "studentid                                                                     \n",
       "64                  2011       96           4         DRA10   Q1         88   \n",
       "64                  2011       96           4         ENG40   Q1         72   \n",
       "64                  2011       96           4        HIST40   Q1         74   \n",
       "64                  2011       96           4        MATH40   Q1         76   \n",
       "64                  2011       96           4        RHET40   Q1         89   \n",
       "\n",
       "           failed_course  \n",
       "studentid                 \n",
       "64                     0  \n",
       "64                     0  \n",
       "64                     0  \n",
       "64                     1  \n",
       "64                     0  "
      ]
     },
     "execution_count": 1,
     "metadata": {},
     "output_type": "execute_result"
    }
   ],
   "source": [
    "import pandas as pd\n",
    "\n",
    "## import data\n",
    "passfail = pd.read_csv('failureprediction.csv', index_col='studentid')\n",
    "\n",
    "print passfail.shape\n",
    "passfail.head()"
   ]
  },
  {
   "cell_type": "markdown",
   "metadata": {},
   "source": [
    "# Data Dictionary\n",
    "\n",
    "| Feature | Definition |\n",
    "|-------|------------|\n",
    "| studentid | A student's unique identifier, anonymized |\n",
    "| academic_year | The starting year of the fall term for school year.  For example, *2013-2014* would be *2013* |\n",
    "| term | The quarter of the school year that the data pertains to |\n",
    "| att_pct | A student's daily attendance percentage for the related term |\n",
    "| n_demerits | The number of negative behavior marks against a student for the related term |\n",
    "| course_number | The specific code for a given course, composed of both a subject code and level code |\n",
    "| grade_pct | The student's average grade for the related term and course |\n",
    "| failed_course |1 indicates that a student failed the course for the year, 0 means they passed (Target Variable) |"
   ]
  },
  {
   "cell_type": "markdown",
   "metadata": {},
   "source": [
    "# Data Summary\n",
    "\n",
    "Although, this was pulled from our database, there is some cleanup necessary in order to allow the data to work correctly with some of our libraries.\n",
    "\n",
    "- **course_number** is a concatenated string of the subject and the level of the course.  We will need to separate them in order for our model to consider subject and level independently when determining whether a student will fail or not.\n",
    "- As-is, **term** is a meaningless string, but we can remove the preceeding 'Q' to turn it into an integer"
   ]
  },
  {
   "cell_type": "code",
   "execution_count": 2,
   "metadata": {
    "collapsed": false
   },
   "outputs": [
    {
     "name": "stdout",
     "output_type": "stream",
     "text": [
      "['DRA' 'ENG' 'HIST' 'MATH' 'RHET' 'SCI' 'SPAN' 'GYM' 'ART' 'FREN' 'STUDY'\n",
      " 'WRI' 'THE' 'ARAB' 'BUS']\n"
     ]
    },
    {
     "data": {
      "text/html": [
       "<div style=\"max-height:1000px;max-width:1500px;overflow:auto;\">\n",
       "<table border=\"1\" class=\"dataframe\">\n",
       "  <thead>\n",
       "    <tr style=\"text-align: right;\">\n",
       "      <th></th>\n",
       "      <th>academic_year</th>\n",
       "      <th>att_pct</th>\n",
       "      <th>n_demerits</th>\n",
       "      <th>course_number</th>\n",
       "      <th>term</th>\n",
       "      <th>grade_pct</th>\n",
       "      <th>failed_course</th>\n",
       "      <th>course</th>\n",
       "      <th>level</th>\n",
       "    </tr>\n",
       "    <tr>\n",
       "      <th>studentid</th>\n",
       "      <th></th>\n",
       "      <th></th>\n",
       "      <th></th>\n",
       "      <th></th>\n",
       "      <th></th>\n",
       "      <th></th>\n",
       "      <th></th>\n",
       "      <th></th>\n",
       "      <th></th>\n",
       "    </tr>\n",
       "  </thead>\n",
       "  <tbody>\n",
       "    <tr>\n",
       "      <th>64</th>\n",
       "      <td>2011</td>\n",
       "      <td>96</td>\n",
       "      <td>4</td>\n",
       "      <td>DRA10</td>\n",
       "      <td>Q1</td>\n",
       "      <td>88</td>\n",
       "      <td>0</td>\n",
       "      <td>DRA</td>\n",
       "      <td>10</td>\n",
       "    </tr>\n",
       "    <tr>\n",
       "      <th>64</th>\n",
       "      <td>2011</td>\n",
       "      <td>96</td>\n",
       "      <td>4</td>\n",
       "      <td>ENG40</td>\n",
       "      <td>Q1</td>\n",
       "      <td>72</td>\n",
       "      <td>0</td>\n",
       "      <td>ENG</td>\n",
       "      <td>40</td>\n",
       "    </tr>\n",
       "    <tr>\n",
       "      <th>64</th>\n",
       "      <td>2011</td>\n",
       "      <td>96</td>\n",
       "      <td>4</td>\n",
       "      <td>HIST40</td>\n",
       "      <td>Q1</td>\n",
       "      <td>74</td>\n",
       "      <td>0</td>\n",
       "      <td>HIST</td>\n",
       "      <td>40</td>\n",
       "    </tr>\n",
       "    <tr>\n",
       "      <th>64</th>\n",
       "      <td>2011</td>\n",
       "      <td>96</td>\n",
       "      <td>4</td>\n",
       "      <td>MATH40</td>\n",
       "      <td>Q1</td>\n",
       "      <td>76</td>\n",
       "      <td>1</td>\n",
       "      <td>MATH</td>\n",
       "      <td>40</td>\n",
       "    </tr>\n",
       "    <tr>\n",
       "      <th>64</th>\n",
       "      <td>2011</td>\n",
       "      <td>96</td>\n",
       "      <td>4</td>\n",
       "      <td>RHET40</td>\n",
       "      <td>Q1</td>\n",
       "      <td>89</td>\n",
       "      <td>0</td>\n",
       "      <td>RHET</td>\n",
       "      <td>40</td>\n",
       "    </tr>\n",
       "  </tbody>\n",
       "</table>\n",
       "</div>"
      ],
      "text/plain": [
       "           academic_year  att_pct  n_demerits course_number term  grade_pct  \\\n",
       "studentid                                                                     \n",
       "64                  2011       96           4         DRA10   Q1         88   \n",
       "64                  2011       96           4         ENG40   Q1         72   \n",
       "64                  2011       96           4        HIST40   Q1         74   \n",
       "64                  2011       96           4        MATH40   Q1         76   \n",
       "64                  2011       96           4        RHET40   Q1         89   \n",
       "\n",
       "           failed_course course  level  \n",
       "studentid                               \n",
       "64                     0    DRA     10  \n",
       "64                     0    ENG     40  \n",
       "64                     0   HIST     40  \n",
       "64                     1   MATH     40  \n",
       "64                     0   RHET     40  "
      ]
     },
     "execution_count": 2,
     "metadata": {},
     "output_type": "execute_result"
    }
   ],
   "source": [
    "## create clean df for making modifications\n",
    "passfail_c = passfail\n",
    "\n",
    "## using regex, split course_number into a string and a digit\n",
    "def parse_coursenum(coursenum):    \n",
    "    import re\n",
    "    n = re.split('(\\d+)', coursenum)\n",
    "    return n\n",
    "\n",
    "## add columns to the df using .apply() and the function we defined above\n",
    "## for each record, store the first item in the returned list as the course, and the second as the level\n",
    "passfail_c['course'] = passfail_c.course_number.apply(lambda s: parse_coursenum(s)[0])\n",
    "passfail_c['level'] = passfail_c.course_number.apply(lambda s: parse_coursenum(s)[1]).astype('int')\n",
    "\n",
    "print passfail_c.course.unique()\n",
    "\n",
    "passfail_c.head()"
   ]
  },
  {
   "cell_type": "code",
   "execution_count": 3,
   "metadata": {
    "collapsed": false
   },
   "outputs": [
    {
     "data": {
      "text/html": [
       "<div style=\"max-height:1000px;max-width:1500px;overflow:auto;\">\n",
       "<table border=\"1\" class=\"dataframe\">\n",
       "  <thead>\n",
       "    <tr style=\"text-align: right;\">\n",
       "      <th></th>\n",
       "      <th>academic_year</th>\n",
       "      <th>att_pct</th>\n",
       "      <th>n_demerits</th>\n",
       "      <th>course_number</th>\n",
       "      <th>term</th>\n",
       "      <th>grade_pct</th>\n",
       "      <th>failed_course</th>\n",
       "      <th>course</th>\n",
       "      <th>level</th>\n",
       "      <th>course_dummy</th>\n",
       "      <th>term_dummy</th>\n",
       "    </tr>\n",
       "    <tr>\n",
       "      <th>studentid</th>\n",
       "      <th></th>\n",
       "      <th></th>\n",
       "      <th></th>\n",
       "      <th></th>\n",
       "      <th></th>\n",
       "      <th></th>\n",
       "      <th></th>\n",
       "      <th></th>\n",
       "      <th></th>\n",
       "      <th></th>\n",
       "      <th></th>\n",
       "    </tr>\n",
       "  </thead>\n",
       "  <tbody>\n",
       "    <tr>\n",
       "      <th>64</th>\n",
       "      <td>2011</td>\n",
       "      <td>96</td>\n",
       "      <td>4</td>\n",
       "      <td>DRA10</td>\n",
       "      <td>Q1</td>\n",
       "      <td>88</td>\n",
       "      <td>0</td>\n",
       "      <td>DRA</td>\n",
       "      <td>10</td>\n",
       "      <td>0</td>\n",
       "      <td>1</td>\n",
       "    </tr>\n",
       "    <tr>\n",
       "      <th>64</th>\n",
       "      <td>2011</td>\n",
       "      <td>96</td>\n",
       "      <td>4</td>\n",
       "      <td>ENG40</td>\n",
       "      <td>Q1</td>\n",
       "      <td>72</td>\n",
       "      <td>0</td>\n",
       "      <td>ENG</td>\n",
       "      <td>40</td>\n",
       "      <td>1</td>\n",
       "      <td>1</td>\n",
       "    </tr>\n",
       "    <tr>\n",
       "      <th>64</th>\n",
       "      <td>2011</td>\n",
       "      <td>96</td>\n",
       "      <td>4</td>\n",
       "      <td>HIST40</td>\n",
       "      <td>Q1</td>\n",
       "      <td>74</td>\n",
       "      <td>0</td>\n",
       "      <td>HIST</td>\n",
       "      <td>40</td>\n",
       "      <td>2</td>\n",
       "      <td>1</td>\n",
       "    </tr>\n",
       "    <tr>\n",
       "      <th>64</th>\n",
       "      <td>2011</td>\n",
       "      <td>96</td>\n",
       "      <td>4</td>\n",
       "      <td>MATH40</td>\n",
       "      <td>Q1</td>\n",
       "      <td>76</td>\n",
       "      <td>1</td>\n",
       "      <td>MATH</td>\n",
       "      <td>40</td>\n",
       "      <td>3</td>\n",
       "      <td>1</td>\n",
       "    </tr>\n",
       "    <tr>\n",
       "      <th>64</th>\n",
       "      <td>2011</td>\n",
       "      <td>96</td>\n",
       "      <td>4</td>\n",
       "      <td>RHET40</td>\n",
       "      <td>Q1</td>\n",
       "      <td>89</td>\n",
       "      <td>0</td>\n",
       "      <td>RHET</td>\n",
       "      <td>40</td>\n",
       "      <td>4</td>\n",
       "      <td>1</td>\n",
       "    </tr>\n",
       "  </tbody>\n",
       "</table>\n",
       "</div>"
      ],
      "text/plain": [
       "           academic_year  att_pct  n_demerits course_number term  grade_pct  \\\n",
       "studentid                                                                     \n",
       "64                  2011       96           4         DRA10   Q1         88   \n",
       "64                  2011       96           4         ENG40   Q1         72   \n",
       "64                  2011       96           4        HIST40   Q1         74   \n",
       "64                  2011       96           4        MATH40   Q1         76   \n",
       "64                  2011       96           4        RHET40   Q1         89   \n",
       "\n",
       "           failed_course course  level  course_dummy  term_dummy  \n",
       "studentid                                                         \n",
       "64                     0    DRA     10             0           1  \n",
       "64                     0    ENG     40             1           1  \n",
       "64                     0   HIST     40             2           1  \n",
       "64                     1   MATH     40             3           1  \n",
       "64                     0   RHET     40             4           1  "
      ]
     },
     "execution_count": 3,
     "metadata": {},
     "output_type": "execute_result"
    }
   ],
   "source": [
    "## map dummy values to subjects for use in algorithm\n",
    "passfail_c['course_dummy'] = passfail_c.course.map({'DRA':0,\n",
    "                                                    'ENG':1,\n",
    "                                                    'HIST':2,\n",
    "                                                    'MATH':3,\n",
    "                                                    'RHET':4,\n",
    "                                                    'SCI':5,\n",
    "                                                    'SPAN':6,\n",
    "                                                    'GYM':7,\n",
    "                                                    'ART':8,\n",
    "                                                    'FREN':9,\n",
    "                                                    'STUDY':10,\n",
    "                                                    'WRI':11,\n",
    "                                                    'THE':12,\n",
    "                                                    'ARAB':13,\n",
    "                                                    'BUS':14})\n",
    "\n",
    "## map integers to term numbers for use in algorithm\n",
    "passfail_c['term_dummy'] = passfail_c.term.map({'Q1':1, \n",
    "                                                'Q2':2, \n",
    "                                                'Q3':3, \n",
    "                                                'Q4':4})\n",
    "\n",
    "passfail_c.head()"
   ]
  },
  {
   "cell_type": "markdown",
   "metadata": {},
   "source": [
    "When building the model, we want to reserve a portion of the data for accuracy testing.  For this analysis, I am splitting the data by year: building the model on two full years of data and testing it on a third complete year."
   ]
  },
  {
   "cell_type": "code",
   "execution_count": 4,
   "metadata": {
    "collapsed": false
   },
   "outputs": [],
   "source": [
    "## drop any rows containing NaN\n",
    "passfail_c.dropna()\n",
    "\n",
    "## create a subset of two years to build the model on\n",
    "passfail_sample = passfail_c[passfail_c.academic_year < 2013]\n",
    "\n",
    "## pull out 2013-2014 to test accuracy\n",
    "passfail_oos = passfail_c[passfail_c.academic_year == 2013]"
   ]
  },
  {
   "cell_type": "code",
   "execution_count": 5,
   "metadata": {
    "collapsed": false
   },
   "outputs": [],
   "source": [
    "% matplotlib inline\n",
    "import seaborn as sns\n",
    "from matplotlib import pyplot as plt\n",
    "sns.set_style('white')"
   ]
  },
  {
   "cell_type": "markdown",
   "metadata": {},
   "source": [
    "The two plots below show the distributions of our target variable and a feature that will be very important: grade_pct\n",
    "\n",
    "As we subset our data and introduce new data, we should expect the shape to be similar..."
   ]
  },
  {
   "cell_type": "code",
   "execution_count": 6,
   "metadata": {
    "collapsed": false
   },
   "outputs": [
    {
     "name": "stdout",
     "output_type": "stream",
     "text": [
      "Target: failed_course\n"
     ]
    },
    {
     "data": {
      "text/plain": [
       "<matplotlib.axes._subplots.AxesSubplot at 0x183ffe80>"
      ]
     },
     "execution_count": 6,
     "metadata": {},
     "output_type": "execute_result"
    },
    {
     "data": {
      "image/png": "[encoded data removed]",
      "text/plain": [
       "<matplotlib.figure.Figure at 0x183dba58>"
      ]
     },
     "metadata": {},
     "output_type": "display_data"
    }
   ],
   "source": [
    "print 'Target: failed_course'\n",
    "passfail_sample.failed_course.hist(bins=3)"
   ]
  },
  {
   "cell_type": "code",
   "execution_count": 7,
   "metadata": {
    "collapsed": false
   },
   "outputs": [
    {
     "name": "stdout",
     "output_type": "stream",
     "text": [
      "Feature: grade_pct\n"
     ]
    },
    {
     "data": {
      "text/plain": [
       "<matplotlib.axes._subplots.AxesSubplot at 0x1850f518>"
      ]
     },
     "execution_count": 7,
     "metadata": {},
     "output_type": "execute_result"
    },
    {
     "data": {
      "image/png": "[encoded data removed]",
      "text/plain": [
       "<matplotlib.figure.Figure at 0xc812320>"
      ]
     },
     "metadata": {},
     "output_type": "display_data"
    }
   ],
   "source": [
    "print 'Feature: grade_pct'\n",
    "passfail_sample.grade_pct.hist()"
   ]
  },
  {
   "cell_type": "markdown",
   "metadata": {},
   "source": [
    "# Feature Selection\n",
    "\n",
    "Before we build the model, we need to know if our features actually contain some useful information or will just add noise to it.  After excluding a few specific features (for various reasons), I will loop over each feature, testing it's correlation to the target variable.\n",
    "\n",
    "If it shows a significant level of correlation (p-value < 0.05), we'll keep it.  If not, it will also be excluded from the model."
   ]
  },
  {
   "cell_type": "code",
   "execution_count": 8,
   "metadata": {
    "collapsed": false
   },
   "outputs": [
    {
     "name": "stdout",
     "output_type": "stream",
     "text": [
      "original feature list: ['att_pct', 'n_demerits', 'grade_pct', 'level', 'course_dummy', 'term_dummy'] \n",
      "\n",
      "feature \tp-value\n",
      "att_pct \t2.79249317987e-272\n",
      "n_demerits \t7.82933441929e-287\n",
      "grade_pct \t0.0\n",
      "level \t0.0\n",
      "course_dummy \t4.55490053384e-56\n",
      "term_dummy \t0.183152344534\n",
      "\n",
      "significant features: ['att_pct', 'n_demerits', 'grade_pct', 'level', 'course_dummy']\n"
     ]
    }
   ],
   "source": [
    "from sklearn import feature_selection as f_select\n",
    "\n",
    "## create a list of feature columns\n",
    "features = list(passfail_sample.columns)\n",
    "\n",
    "## exclude specific features\n",
    "features.remove('failed_course') ## target variable\n",
    "features.remove('academic_year') ## we want to be able to predict failure independent of year\n",
    "features.remove('course_number') ## split into multiple columns\n",
    "features.remove('course') ## converted to dummy variable\n",
    "features.remove('term') ## converted to dummy variable\n",
    "\n",
    "print 'original feature list:', features, '\\n'\n",
    "\n",
    "## assign our target variable\n",
    "y = passfail_sample.failed_course\n",
    "\n",
    "## create empty lists to store resulting values\n",
    "significant_features = []\n",
    "pvals = []\n",
    "\n",
    "print 'feature', '\\t', 'p-value'\n",
    "for feature in features:  ## for each feature...        \n",
    "    pval = f_select.f_classif(passfail_sample[[feature]], y)  ## get the p-value wrt target\n",
    "    print feature, '\\t', pval[1][0]  ## print it!\n",
    "    if pval[1][0] < 0.05:  ## if it's less than 0.05...\n",
    "        significant_features.append(feature)  ## append it to the results list\n",
    "        #pvals.append(pval[1][0])\n",
    "        \n",
    "## print out only our significant features\n",
    "print '\\n', 'significant features:', significant_features        \n",
    "\n",
    "## create a dataframe with only significant columns\n",
    "X = passfail_sample[significant_features]"
   ]
  },
  {
   "cell_type": "markdown",
   "metadata": {},
   "source": [
    "Everything except the **term** had been deemed as significantly correlated with the target variable.  Slightly disappointing, as I had hoped there would be some kind of non-random trend to failure as the year progresses.\n",
    "\n",
    "\n",
    "# Model Buiding\n",
    "\n",
    "We're facing a classification problem: will a student fail or will they pass a class?  So we will use a classifier algorithm to predict where each observation belongs.  Since we are using a broad range of features that aren't all linearly correlated with one another, we can use a decision tree to build a rule set based on averages of each feature.\n",
    "\n",
    "But first, we need to see what kind of results we can get from it..."
   ]
  },
  {
   "cell_type": "code",
   "execution_count": 9,
   "metadata": {
    "collapsed": false
   },
   "outputs": [
    {
     "name": "stdout",
     "output_type": "stream",
     "text": [
      "DecisionTreeClassifier(class_weight=None, criterion='gini', max_depth=None,\n",
      "            max_features=None, max_leaf_nodes=None, min_samples_leaf=1,\n",
      "            min_samples_split=2, min_weight_fraction_leaf=0.0,\n",
      "            random_state=None, splitter='best')\n",
      "Accuracy on training data: 1.00\n",
      "Accuracy on test data:     0.83\n"
     ]
    }
   ],
   "source": [
    "## use a decision tree classifier to build a rule set\n",
    "from sklearn import cross_validation, tree\n",
    "\n",
    "## define a function that will split the model-building data\n",
    "## into a training set and a testing set to measure the accuracy of the classifier\n",
    "def train_and_measure(classifier, x, y, tsize):\n",
    "    xtrain, xtest, ytrain, ytest = cross_validation.train_test_split(x, y, test_size=tsize, random_state=1234)\n",
    "    clf = classifier.fit(xtrain, ytrain)    \n",
    "    training_accuracy = clf.score(xtrain, ytrain)\n",
    "    test_accuracy = clf.score(xtest, ytest)\n",
    "    print classifier\n",
    "    print \"Accuracy on training data: %0.2f\" % training_accuracy\n",
    "    print \"Accuracy on test data:     %0.2f\" % test_accuracy  \n",
    "\n",
    "## get an idea of how accurate this classifier can be\n",
    "train_and_measure(tree.DecisionTreeClassifier(), X, y, 0.2)"
   ]
  },
  {
   "cell_type": "markdown",
   "metadata": {},
   "source": [
    "Looks good!  83% accuracy on the test set, right out of the box.\n",
    "\n",
    "The 100% accuracy on the training set is suspect.  However, this is the nature of a Decision Tree without any stopping criteria--it will execute until all outcomes have been explained.\n",
    "\n",
    "In order to build a more generally-applicable model, we can run some analyses to find the best-optimized values for certain parameters.  For a decision tree, **max_depth** is a high-leverage parameter that should impact it's performance greatly.  The code below will loop over a range of depth settings, test it's accuracy, and keep track of which setting yielded the best score.\n",
    "\n",
    "In this case, the \"score\" is the Area Under the ROC Curve, which plots the rate at which true positives are identified against the rate of false positives.  The \"Area\" represents the percentage of variance that the model correctly explains.  More on this later..."
   ]
  },
  {
   "cell_type": "code",
   "execution_count": 10,
   "metadata": {
    "collapsed": false
   },
   "outputs": [
    {
     "name": "stdout",
     "output_type": "stream",
     "text": [
      "max_depth \tmean ROC/AUC score\n",
      "1 \t\t0.794803219863\n",
      "2 \t\t0.881544414341\n",
      "3 \t\t0.909320452624\n",
      "4 \t\t0.915341557931\n",
      "5 \t\t0.916526946161\n",
      "6 \t\t0.9163512137\n",
      "7 \t\t0.908057908426\n",
      "8 \t\t0.898379566983\n",
      "9 \t\t0.879462609212\n",
      "10 \t\t0.861318634067\n",
      "11 \t\t0.841204820835\n",
      "12 \t\t0.820416921805\n",
      "13 \t\t0.804629259734\n",
      "14 \t\t0.786166438696\n",
      "15 \t\t0.775304659437\n",
      "16 \t\t0.762208553918\n",
      "17 \t\t0.753187870112\n",
      "18 \t\t0.748124223783\n",
      "19 \t\t0.741693010747\n",
      "20 \t\t0.738289291869\n",
      "21 \t\t0.735966342314\n",
      "22 \t\t0.734638863605\n",
      "23 \t\t0.731926659136\n",
      "24 \t\t0.729335264793\n",
      "25 \t\t0.728429737231\n",
      "26 \t\t0.728342454126\n",
      "27 \t\t0.726818780117\n",
      "28 \t\t0.727440698612\n",
      "29 \t\t0.727674507956\n",
      "\n",
      "Best score: 0.916526946161\n",
      "max_depth = 5\n"
     ]
    },
    {
     "data": {
      "text/plain": [
       "[<matplotlib.lines.Line2D at 0x1ad152e8>]"
      ]
     },
     "execution_count": 10,
     "metadata": {},
     "output_type": "execute_result"
    },
    {
     "data": {
      "image/png": "[encoded data removed]",
      "text/plain": [
       "<matplotlib.figure.Figure at 0x1aad4e80>"
      ]
     },
     "metadata": {},
     "output_type": "display_data"
    }
   ],
   "source": [
    "## optimize some of the stopping criteria (max_depth) to obtain a better score\n",
    "\n",
    "from sklearn.cross_validation import cross_val_score\n",
    "\n",
    "all_scores = []  ## create an empty list to store cross val scores\n",
    "best_score = -1  ## set default best score to -1\n",
    "\n",
    "print 'max_depth', '\\t', 'mean ROC/AUC score'\n",
    "for param in range(1, 30):  ## for every integer between 1 and 30...\n",
    "    ## get a score for each max_depth setting\n",
    "    scores = cross_val_score(tree.DecisionTreeClassifier(max_depth=param, random_state=1234),\n",
    "                             X,\n",
    "                             y,\n",
    "                             scoring='roc_auc',\n",
    "                             cv=5)\n",
    "    print param, '\\t\\t', scores.mean()\n",
    "    if scores.mean() > best_score:  ## if the mean of the score is better than the best score...\n",
    "        best_param = param  ## set the best_param variable with that number\n",
    "        best_score = scores.mean()  ## set the best_score variable to the mean of the scores\n",
    "    all_scores.append(scores.mean())    \n",
    "\n",
    "print\n",
    "print 'Best score:', best_score\n",
    "print 'max_depth =', best_param\n",
    "\n",
    "## plot it!\n",
    "plt.plot(range(1, 30), all_scores)"
   ]
  },
  {
   "cell_type": "markdown",
   "metadata": {},
   "source": [
    "As you can see, above the best max_depth is 5.  Looking at the graph, you can see that the marginal accuracy rose until it hit a depth of 5, and then it started to diminish and become even less accurate.\n",
    "\n",
    "Taking our classifier one step further, we can turn our Decision Tree into a Random Forest to improve results even further.  A Random Forest will create a number of Decision Trees, each with different sampling and different rule sets, and then return the **mode** of the predicted classes for each observation.\n",
    "\n",
    "First, we should run a similar test to find how many \"trees\" should our \"forest\" contain..."
   ]
  },
  {
   "cell_type": "code",
   "execution_count": 11,
   "metadata": {
    "collapsed": false
   },
   "outputs": [
    {
     "name": "stdout",
     "output_type": "stream",
     "text": [
      "n_estimators \tmean ROC/AUC score\n",
      "1 \t\t0.850980065159\n",
      "2 \t\t0.90822079357\n",
      "3 \t\t0.911551261584\n",
      "4 \t\t0.915275167216\n",
      "5 \t\t0.91680988028\n",
      "6 \t\t0.917769814137\n",
      "7 \t\t0.916062861336\n",
      "8 \t\t0.919554986581\n",
      "9 \t\t0.917217261573\n",
      "10 \t\t0.92103411111\n",
      "11 \t\t0.918280606401\n",
      "12 \t\t0.92129464637\n",
      "13 \t\t0.920236514027\n",
      "14 \t\t0.921294161224\n",
      "15 \t\t0.919450847714\n",
      "16 \t\t0.922079921623\n",
      "17 \t\t0.921529502315\n",
      "18 \t\t0.921797904879\n",
      "19 \t\t0.920095455532\n",
      "20 \t\t0.923237366268\n",
      "21 \t\t0.921582755858\n",
      "22 \t\t0.921077750874\n",
      "23 \t\t0.921304262605\n",
      "24 \t\t0.922789721221\n",
      "25 \t\t0.921497273515\n",
      "26 \t\t0.922519443054\n",
      "27 \t\t0.922760345785\n",
      "28 \t\t0.922856976077\n",
      "29 \t\t0.922513740795\n",
      "30 \t\t0.922312771303\n",
      "31 \t\t0.92208373564\n",
      "32 \t\t0.921928622341\n",
      "33 \t\t0.92236257543\n",
      "34 \t\t0.922496666891\n",
      "35 \t\t0.922054775997\n",
      "36 \t\t0.92299674302\n",
      "37 \t\t0.921615832586\n",
      "38 \t\t0.922493582747\n",
      "39 \t\t0.923260111282\n",
      "40 \t\t0.92286084084\n",
      "41 \t\t0.922726478226\n",
      "42 \t\t0.922695704831\n",
      "43 \t\t0.922097505088\n",
      "44 \t\t0.922885198602\n",
      "45 \t\t0.923813455125\n",
      "46 \t\t0.922870485639\n",
      "47 \t\t0.924015342152\n",
      "48 \t\t0.923183683687\n",
      "49 \t\t0.923082014434\n",
      "\n",
      "Best score: 0.924015342152\n",
      "n_estimators = 47\n"
     ]
    },
    {
     "data": {
      "text/plain": [
       "[<matplotlib.lines.Line2D at 0x1b6f0908>]"
      ]
     },
     "execution_count": 11,
     "metadata": {},
     "output_type": "execute_result"
    },
    {
     "data": {
      "image/png": "[encoded data removed]",
      "text/plain": [
       "<matplotlib.figure.Figure at 0x1ad25cf8>"
      ]
     },
     "metadata": {},
     "output_type": "display_data"
    }
   ],
   "source": [
    "import numpy as np\n",
    "from sklearn.ensemble import RandomForestClassifier\n",
    "\n",
    "all_scores = []  ## create an empty list to store cross val scores\n",
    "best_score = -1  ## set default best score to -1\n",
    "\n",
    "print 'n_estimators', '\\t', 'mean ROC/AUC score'\n",
    "for param in range(1, 50):    \n",
    "    scores = cross_val_score(RandomForestClassifier(n_estimators=param, max_depth=5),\n",
    "                             X,\n",
    "                             y,\n",
    "                             scoring='roc_auc',\n",
    "                             cv=5)\n",
    "    print param, '\\t\\t', scores.mean()\n",
    "    if scores.mean() > best_score:  ## if the mean of the score is better than the best score...\n",
    "        best_param = param  ## set the best_param variable with that number\n",
    "        best_score = scores.mean()  ## set the best_score variable to the mean of the scores\n",
    "    all_scores.append(scores.mean())    \n",
    "\n",
    "print\n",
    "print 'Best score:', best_score\n",
    "print 'n_estimators =', best_param\n",
    "\n",
    "## plot it!\n",
    "plt.figure()\n",
    "plt.plot(range(1, 50), all_scores)"
   ]
  },
  {
   "cell_type": "markdown",
   "metadata": {},
   "source": [
    "This graph requires a little more interpretation than the max_depth one.  We see the AUC rise sharply at first but then it plateaus somewhere around 92%.\n",
    "\n",
    "A good rule of thumb for this case (called the \"Elbow Rule\"), states that you should choose the point at which the marginal benefit starts to diminish.  Looking closer at the actual numbers, it looks like 20 trees is where the algorithm starts to consistently hit 92%, so we'll go with that.\n",
    "\n",
    "Now, let's fit our data to our optimized model and check the \"importance\" that it assigns to each of our features."
   ]
  },
  {
   "cell_type": "code",
   "execution_count": 12,
   "metadata": {
    "collapsed": false
   },
   "outputs": [
    {
     "data": {
      "text/html": [
       "<div style=\"max-height:1000px;max-width:1500px;overflow:auto;\">\n",
       "<table border=\"1\" class=\"dataframe\">\n",
       "  <thead>\n",
       "    <tr style=\"text-align: right;\">\n",
       "      <th></th>\n",
       "      <th>feature</th>\n",
       "      <th>importance</th>\n",
       "    </tr>\n",
       "  </thead>\n",
       "  <tbody>\n",
       "    <tr>\n",
       "      <th>2</th>\n",
       "      <td>grade_pct</td>\n",
       "      <td>0.802670</td>\n",
       "    </tr>\n",
       "    <tr>\n",
       "      <th>1</th>\n",
       "      <td>n_demerits</td>\n",
       "      <td>0.072052</td>\n",
       "    </tr>\n",
       "    <tr>\n",
       "      <th>0</th>\n",
       "      <td>att_pct</td>\n",
       "      <td>0.065381</td>\n",
       "    </tr>\n",
       "    <tr>\n",
       "      <th>3</th>\n",
       "      <td>level</td>\n",
       "      <td>0.030785</td>\n",
       "    </tr>\n",
       "    <tr>\n",
       "      <th>4</th>\n",
       "      <td>course_dummy</td>\n",
       "      <td>0.029112</td>\n",
       "    </tr>\n",
       "  </tbody>\n",
       "</table>\n",
       "</div>"
      ],
      "text/plain": [
       "        feature  importance\n",
       "2     grade_pct    0.802670\n",
       "1    n_demerits    0.072052\n",
       "0       att_pct    0.065381\n",
       "3         level    0.030785\n",
       "4  course_dummy    0.029112"
      ]
     },
     "execution_count": 12,
     "metadata": {},
     "output_type": "execute_result"
    }
   ],
   "source": [
    "rfclf = RandomForestClassifier(n_estimators=20, max_depth=5).fit(X, y)\n",
    "\n",
    "## compute the feature importances to get an idea of how the classifier will build its rule set\n",
    "pd.DataFrame({'feature':significant_features, 'importance':rfclf.feature_importances_}).sort('importance',ascending=False)"
   ]
  },
  {
   "cell_type": "markdown",
   "metadata": {},
   "source": [
    "Grades are first (obviously), followed by attendance, demerits, level, and subject.  The decision trees will generate thier rules based on the importance of each feature.\n",
    "\n",
    "\n",
    "# Model Evaluation\n",
    "\n",
    "Now that we've trained our classifier, let's see how it performs on some data that it's never seen, using the out of sample set that we created earlier..."
   ]
  },
  {
   "cell_type": "code",
   "execution_count": 13,
   "metadata": {
    "collapsed": false
   },
   "outputs": [
    {
     "name": "stdout",
     "output_type": "stream",
     "text": [
      "grade_pct\n"
     ]
    },
    {
     "data": {
      "image/png": "[encoded data removed]",
      "text/plain": [
       "<matplotlib.figure.Figure at 0x18766470>"
      ]
     },
     "metadata": {},
     "output_type": "display_data"
    },
    {
     "name": "stdout",
     "output_type": "stream",
     "text": [
      "failed_course\n"
     ]
    },
    {
     "data": {
      "image/png": "[encoded data removed]",
      "text/plain": [
       "<matplotlib.figure.Figure at 0x1b07e780>"
      ]
     },
     "metadata": {},
     "output_type": "display_data"
    }
   ],
   "source": [
    "print 'grade_pct'\n",
    "passfail_oos.grade_pct.hist()\n",
    "plt.show()\n",
    "\n",
    "print 'failed_course'\n",
    "passfail_oos.failed_course.hist(bins=3)\n",
    "plt.show()"
   ]
  },
  {
   "cell_type": "markdown",
   "metadata": {},
   "source": [
    "The distributions among term grades and the target variables is very similar to our sample set, so we should expect some good results.\n",
    "\n",
    "First, we need to redefine our input variables..."
   ]
  },
  {
   "cell_type": "code",
   "execution_count": 14,
   "metadata": {
    "collapsed": true
   },
   "outputs": [],
   "source": [
    "X = passfail_oos[significant_features]\n",
    "y = passfail_oos.failed_course"
   ]
  },
  {
   "cell_type": "markdown",
   "metadata": {},
   "source": [
    "Now, we'll create a confusion matrix (key below) and pull out some stats at how well it correctly (and incorrectly) identifies the target..."
   ]
  },
  {
   "cell_type": "code",
   "execution_count": 15,
   "metadata": {
    "collapsed": false
   },
   "outputs": [
    {
     "name": "stdout",
     "output_type": "stream",
     "text": [
      "[[12876   624]\n",
      " [ 1218  2096]]\n",
      "\n",
      "true positive rate: 0.632468316234\n",
      "false positive rate: 0.0462222222222\n",
      "accuracy: 0.890448435827\n",
      "\n",
      "AUC score: 0.793123047006\n"
     ]
    },
    {
     "data": {
      "text/plain": [
       "<matplotlib.text.Text at 0x1c39ce10>"
      ]
     },
     "execution_count": 15,
     "metadata": {},
     "output_type": "execute_result"
    },
    {
     "data": {
      "image/png": "[encoded data removed]",
      "text/plain": [
       "<matplotlib.figure.Figure at 0x1842aef0>"
      ]
     },
     "metadata": {},
     "output_type": "display_data"
    }
   ],
   "source": [
    "\"\"\"\n",
    "Confusion Matrix explained:\n",
    "\n",
    "|  True Negatves    |  False Positives |\n",
    "|-------------------|------------------|\n",
    "|  False Negatives  |  True Positives  |\n",
    "\n",
    "\"\"\"\n",
    "\n",
    "from sklearn import metrics\n",
    "\n",
    "\n",
    "conf = metrics.confusion_matrix(y, rfclf.predict(X))\n",
    "print conf\n",
    "print\n",
    "\n",
    "## print out metrics\n",
    "print 'true positive rate:', metrics.roc_curve(y, rfclf.predict(X))[1][1]\n",
    "print 'false positive rate:', metrics.roc_curve(y, rfclf.predict(X))[0][1]\n",
    "print 'accuracy:', metrics.accuracy_score(y, rfclf.predict(X))\n",
    "print\n",
    "\n",
    "## create ROC object to plot curve\n",
    "roc = metrics.roc_curve(y, rfclf.predict(X))\n",
    "auc = metrics.roc_auc_score(y, rfclf.predict(X))\n",
    "print 'AUC score:', auc\n",
    "\n",
    "## plot it!\n",
    "plt.figure()\n",
    "plt.plot([0, 0.5, 1], [0, 0.5, 1])  ## plot a line through 50% (random)\n",
    "plt.plot(roc[0], roc[1])  ## plot our results against random line\n",
    "plt.xlabel('false positive rate')\n",
    "plt.ylabel('true positive rate')"
   ]
  },
  {
   "cell_type": "markdown",
   "metadata": {},
   "source": [
    "Above is a plot of the ROC curve and AUC metric that I mentioned previously.  The middle line represents random guessing (50%).\n",
    "\n",
    "As you can see, our classifier performs much better than random at predicting failure, with an AUC of 0.798, which means that, on average, it will choose the correct class about 80% of the time.  While and AUC in the higher 90's would be ideal, this score probably *just* makes the cut-off as something that we can use."
   ]
  },
  {
   "cell_type": "markdown",
   "metadata": {},
   "source": [
    "# Practical Application\n",
    "\n",
    "Looping back to the orginal purpose of this analysis, we want to be able to predict failure before it happens.  It would also be very useful to obtain their probability of failure, since we don't want to be making decisions on *how likely* students are to fail a course.\n",
    "\n",
    "In the next few cells, I will:\n",
    "1. Refit our classifier to use all of training data available and load in data from the current year.  \n",
    "2. Use our classifier not only to predict outcomes but also to see how likely the outcome is\n",
    "3. Run some follow-up analysis on those probabilities"
   ]
  },
  {
   "cell_type": "code",
   "execution_count": 16,
   "metadata": {
    "collapsed": true
   },
   "outputs": [],
   "source": [
    "## use the full training set to build our model\n",
    "X = passfail_c[significant_features]\n",
    "y = passfail_c.failed_course\n",
    "rfclf = RandomForestClassifier(n_estimators=20, max_depth=5).fit(X, y)"
   ]
  },
  {
   "cell_type": "code",
   "execution_count": 17,
   "metadata": {
    "collapsed": false
   },
   "outputs": [
    {
     "data": {
      "text/html": [
       "<div style=\"max-height:1000px;max-width:1500px;overflow:auto;\">\n",
       "<table border=\"1\" class=\"dataframe\">\n",
       "  <thead>\n",
       "    <tr style=\"text-align: right;\">\n",
       "      <th></th>\n",
       "      <th>studentid</th>\n",
       "      <th>academic_year</th>\n",
       "      <th>att_pct</th>\n",
       "      <th>n_demerits</th>\n",
       "      <th>course_number</th>\n",
       "      <th>term</th>\n",
       "      <th>grade_pct</th>\n",
       "      <th>failed_course</th>\n",
       "      <th>course</th>\n",
       "      <th>level</th>\n",
       "      <th>course_dummy</th>\n",
       "      <th>term_dummy</th>\n",
       "    </tr>\n",
       "  </thead>\n",
       "  <tbody>\n",
       "    <tr>\n",
       "      <th>0</th>\n",
       "      <td>275625</td>\n",
       "      <td>2014</td>\n",
       "      <td>80</td>\n",
       "      <td>65</td>\n",
       "      <td>ENG30</td>\n",
       "      <td>Q2</td>\n",
       "      <td>92</td>\n",
       "      <td>NaN</td>\n",
       "      <td>ENG</td>\n",
       "      <td>30</td>\n",
       "      <td>1</td>\n",
       "      <td>2</td>\n",
       "    </tr>\n",
       "    <tr>\n",
       "      <th>1</th>\n",
       "      <td>275625</td>\n",
       "      <td>2014</td>\n",
       "      <td>86</td>\n",
       "      <td>41</td>\n",
       "      <td>ENG30</td>\n",
       "      <td>Q1</td>\n",
       "      <td>79</td>\n",
       "      <td>NaN</td>\n",
       "      <td>ENG</td>\n",
       "      <td>30</td>\n",
       "      <td>1</td>\n",
       "      <td>1</td>\n",
       "    </tr>\n",
       "    <tr>\n",
       "      <th>2</th>\n",
       "      <td>275625</td>\n",
       "      <td>2014</td>\n",
       "      <td>86</td>\n",
       "      <td>41</td>\n",
       "      <td>ENG40</td>\n",
       "      <td>Q1</td>\n",
       "      <td>70</td>\n",
       "      <td>NaN</td>\n",
       "      <td>ENG</td>\n",
       "      <td>40</td>\n",
       "      <td>1</td>\n",
       "      <td>1</td>\n",
       "    </tr>\n",
       "    <tr>\n",
       "      <th>3</th>\n",
       "      <td>275625</td>\n",
       "      <td>2014</td>\n",
       "      <td>80</td>\n",
       "      <td>65</td>\n",
       "      <td>ENG40</td>\n",
       "      <td>Q2</td>\n",
       "      <td>70</td>\n",
       "      <td>NaN</td>\n",
       "      <td>ENG</td>\n",
       "      <td>40</td>\n",
       "      <td>1</td>\n",
       "      <td>2</td>\n",
       "    </tr>\n",
       "    <tr>\n",
       "      <th>4</th>\n",
       "      <td>275625</td>\n",
       "      <td>2014</td>\n",
       "      <td>80</td>\n",
       "      <td>65</td>\n",
       "      <td>MATH22</td>\n",
       "      <td>Q2</td>\n",
       "      <td>56</td>\n",
       "      <td>NaN</td>\n",
       "      <td>MATH</td>\n",
       "      <td>22</td>\n",
       "      <td>3</td>\n",
       "      <td>2</td>\n",
       "    </tr>\n",
       "  </tbody>\n",
       "</table>\n",
       "</div>"
      ],
      "text/plain": [
       "   studentid  academic_year  att_pct  n_demerits course_number term  \\\n",
       "0     275625           2014       80          65         ENG30   Q2   \n",
       "1     275625           2014       86          41         ENG30   Q1   \n",
       "2     275625           2014       86          41         ENG40   Q1   \n",
       "3     275625           2014       80          65         ENG40   Q2   \n",
       "4     275625           2014       80          65        MATH22   Q2   \n",
       "\n",
       "   grade_pct  failed_course course  level  course_dummy  term_dummy  \n",
       "0         92            NaN    ENG     30             1           2  \n",
       "1         79            NaN    ENG     30             1           1  \n",
       "2         70            NaN    ENG     40             1           1  \n",
       "3         70            NaN    ENG     40             1           2  \n",
       "4         56            NaN   MATH     22             3           2  "
      ]
     },
     "execution_count": 17,
     "metadata": {},
     "output_type": "execute_result"
    }
   ],
   "source": [
    "## load current year's data to predict failure\n",
    "passfail2014 = pd.read_csv('failureprediction2014.csv')\n",
    "\n",
    "## apply same cleanup tasks\n",
    "passfail2014['course'] = passfail2014.course_number.apply(lambda s: parse_coursenum(s)[0])\n",
    "passfail2014['level'] = passfail2014.course_number.apply(lambda s: parse_coursenum(s)[1]).astype('int')\n",
    "passfail2014['course_dummy'] = passfail2014.course.map({'DRA':0,\n",
    "                                                        'ENG':1,\n",
    "                                                        'HIST':2,\n",
    "                                                        'MATH':3,\n",
    "                                                        'RHET':4,\n",
    "                                                        'SCI':5,\n",
    "                                                        'SPAN':6,\n",
    "                                                        'GYM':7,\n",
    "                                                        'ART':8,\n",
    "                                                        'FREN':9,\n",
    "                                                        'STUDY':10,\n",
    "                                                        'WRI':11,\n",
    "                                                        'THE':12,\n",
    "                                                        'ARAB':13,\n",
    "                                                        'BUS':14})\n",
    "passfail2014['term_dummy'] = passfail2014.term.map({'Q1':1, \n",
    "                                                    'Q2':2, \n",
    "                                                    'Q3':3, \n",
    "                                                    'Q4':4})\n",
    "\n",
    "passfail2014.dropna()\n",
    "passfail2014.head()"
   ]
  },
  {
   "cell_type": "code",
   "execution_count": 18,
   "metadata": {
    "collapsed": false
   },
   "outputs": [],
   "source": [
    "## use our random forest classifier to predict this year's outcomes\n",
    "X_predict = passfail2014[significant_features]\n",
    "\n",
    "## use our Random Forest to predict whether a student will pass or fail\n",
    "y_predict = rfclf.predict(X_predict)\n",
    "\n",
    "## also calculate the probability of the class for deeper analysis\n",
    "prob_predict = rfclf.predict_proba(X_predict)\n",
    "prob0 = [prob_predict[n][0] for n in range(0, len(prob_predict))]  ## probability they're passing\n",
    "prob1 = [prob_predict[n][1] for n in range(0, len(prob_predict))]  ## probability they're failing"
   ]
  },
  {
   "cell_type": "code",
   "execution_count": 19,
   "metadata": {
    "collapsed": false
   },
   "outputs": [
    {
     "data": {
      "text/html": [
       "<div style=\"max-height:1000px;max-width:1500px;overflow:auto;\">\n",
       "<table border=\"1\" class=\"dataframe\">\n",
       "  <thead>\n",
       "    <tr style=\"text-align: right;\">\n",
       "      <th></th>\n",
       "      <th>att_pct</th>\n",
       "      <th>course</th>\n",
       "      <th>failed_course</th>\n",
       "      <th>grade_pct</th>\n",
       "      <th>level</th>\n",
       "      <th>n_demerits</th>\n",
       "      <th>prob0</th>\n",
       "      <th>prob1</th>\n",
       "      <th>studentid</th>\n",
       "      <th>term</th>\n",
       "    </tr>\n",
       "  </thead>\n",
       "  <tbody>\n",
       "    <tr>\n",
       "      <th>0</th>\n",
       "      <td>80</td>\n",
       "      <td>ENG</td>\n",
       "      <td>0</td>\n",
       "      <td>92</td>\n",
       "      <td>30</td>\n",
       "      <td>65</td>\n",
       "      <td>0.873676</td>\n",
       "      <td>0.126324</td>\n",
       "      <td>275625</td>\n",
       "      <td>Q2</td>\n",
       "    </tr>\n",
       "    <tr>\n",
       "      <th>1</th>\n",
       "      <td>86</td>\n",
       "      <td>ENG</td>\n",
       "      <td>0</td>\n",
       "      <td>79</td>\n",
       "      <td>30</td>\n",
       "      <td>41</td>\n",
       "      <td>0.887135</td>\n",
       "      <td>0.112865</td>\n",
       "      <td>275625</td>\n",
       "      <td>Q1</td>\n",
       "    </tr>\n",
       "    <tr>\n",
       "      <th>2</th>\n",
       "      <td>86</td>\n",
       "      <td>ENG</td>\n",
       "      <td>0</td>\n",
       "      <td>70</td>\n",
       "      <td>40</td>\n",
       "      <td>41</td>\n",
       "      <td>0.762987</td>\n",
       "      <td>0.237013</td>\n",
       "      <td>275625</td>\n",
       "      <td>Q1</td>\n",
       "    </tr>\n",
       "    <tr>\n",
       "      <th>3</th>\n",
       "      <td>80</td>\n",
       "      <td>ENG</td>\n",
       "      <td>0</td>\n",
       "      <td>70</td>\n",
       "      <td>40</td>\n",
       "      <td>65</td>\n",
       "      <td>0.755348</td>\n",
       "      <td>0.244652</td>\n",
       "      <td>275625</td>\n",
       "      <td>Q2</td>\n",
       "    </tr>\n",
       "    <tr>\n",
       "      <th>4</th>\n",
       "      <td>80</td>\n",
       "      <td>MATH</td>\n",
       "      <td>1</td>\n",
       "      <td>56</td>\n",
       "      <td>22</td>\n",
       "      <td>65</td>\n",
       "      <td>0.229144</td>\n",
       "      <td>0.770856</td>\n",
       "      <td>275625</td>\n",
       "      <td>Q2</td>\n",
       "    </tr>\n",
       "  </tbody>\n",
       "</table>\n",
       "</div>"
      ],
      "text/plain": [
       "   att_pct course  failed_course  grade_pct  level  n_demerits     prob0  \\\n",
       "0       80    ENG              0         92     30          65  0.873676   \n",
       "1       86    ENG              0         79     30          41  0.887135   \n",
       "2       86    ENG              0         70     40          41  0.762987   \n",
       "3       80    ENG              0         70     40          65  0.755348   \n",
       "4       80   MATH              1         56     22          65  0.229144   \n",
       "\n",
       "      prob1  studentid term  \n",
       "0  0.126324     275625   Q2  \n",
       "1  0.112865     275625   Q1  \n",
       "2  0.237013     275625   Q1  \n",
       "3  0.244652     275625   Q2  \n",
       "4  0.770856     275625   Q2  "
      ]
     },
     "execution_count": 19,
     "metadata": {},
     "output_type": "execute_result"
    }
   ],
   "source": [
    "## combine all of this into a new dataframe\n",
    "predicted = pd.DataFrame({'studentid': passfail2014.studentid,\n",
    "                          'term': passfail2014.term,\n",
    "                          'att_pct': passfail2014.att_pct, \n",
    "                          'n_demerits': passfail2014.n_demerits, \n",
    "                          'course': passfail2014.course, \n",
    "                          'level': passfail2014.level, \n",
    "                          'grade_pct': passfail2014.grade_pct,                             \n",
    "                          'failed_course': y_predict,\n",
    "                          'prob0': prob0,\n",
    "                          'prob1':prob1})\n",
    "\n",
    "predicted.head()"
   ]
  },
  {
   "cell_type": "code",
   "execution_count": 20,
   "metadata": {
    "collapsed": false
   },
   "outputs": [
    {
     "name": "stdout",
     "output_type": "stream",
     "text": [
      "Target: failed_course\n"
     ]
    },
    {
     "data": {
      "text/plain": [
       "<matplotlib.axes._subplots.AxesSubplot at 0x1a8dd4a8>"
      ]
     },
     "execution_count": 20,
     "metadata": {},
     "output_type": "execute_result"
    },
    {
     "data": {
      "image/png": "[encoded data removed]",
      "text/plain": [
       "<matplotlib.figure.Figure at 0x1a8d2748>"
      ]
     },
     "metadata": {},
     "output_type": "display_data"
    }
   ],
   "source": [
    "print 'Target: failed_course'\n",
    "predicted.failed_course.hist(bins=3)"
   ]
  },
  {
   "cell_type": "code",
   "execution_count": 21,
   "metadata": {
    "collapsed": false
   },
   "outputs": [
    {
     "name": "stdout",
     "output_type": "stream",
     "text": [
      "Feature: grade_pct\n"
     ]
    },
    {
     "data": {
      "text/plain": [
       "<matplotlib.axes._subplots.AxesSubplot at 0x1b2cac88>"
      ]
     },
     "execution_count": 21,
     "metadata": {},
     "output_type": "execute_result"
    },
    {
     "data": {
      "image/png": "[encoded data removed]",
      "text/plain": [
       "<matplotlib.figure.Figure at 0x188ba160>"
      ]
     },
     "metadata": {},
     "output_type": "display_data"
    }
   ],
   "source": [
    "print 'Feature: grade_pct'\n",
    "predicted.grade_pct.hist()"
   ]
  },
  {
   "cell_type": "markdown",
   "metadata": {},
   "source": [
    "We now have a resulting dataframe that contains our input data, the predicted outcomes for each observation, and the probability that the obeservation belongs to each class.\n",
    "\n",
    "So what now?  We have some predictions that we can trust, how can we apply them?\n",
    "\n",
    "First, we need to address that each record is term-by-term, and we're trying to predict failure for the *year*.  We should take the mean of each student's probability of failure for each course, set a cut-off for where we are confident that the outcome will come to fruition, and then take a look at how many students may need to retake each course, by level.\n",
    "\n",
    "For example, let's look at students that the model gives an average 65% chance of failure for the year (more likely than not but with some room for error)..."
   ]
  },
  {
   "cell_type": "code",
   "execution_count": 22,
   "metadata": {
    "collapsed": false
   },
   "outputs": [],
   "source": [
    "## filter for students whose average probability of failure for each course is higher than 65%\n",
    "prob_fail = predicted.groupby(['studentid','course']).filter(lambda x: x.prob1.mean() > 0.65)"
   ]
  },
  {
   "cell_type": "markdown",
   "metadata": {},
   "source": [
    "Let's plot these to see if any discernable patterns leap out at us.  I'll use a loop to generate each plot with minimal code."
   ]
  },
  {
   "cell_type": "code",
   "execution_count": 23,
   "metadata": {
    "collapsed": false,
    "scrolled": false
   },
   "outputs": [
    {
     "data": {
      "image/png": "[encoded data removed]",
      "text/plain": [
       "<matplotlib.figure.Figure at 0x1c36c128>"
      ]
     },
     "metadata": {},
     "output_type": "display_data"
    },
    {
     "data": {
      "image/png": "[encoded data removed]",
      "text/plain": [
       "<matplotlib.figure.Figure at 0x1b091240>"
      ]
     },
     "metadata": {},
     "output_type": "display_data"
    },
    {
     "data": {
      "image/png": "[encoded data removed]",
      "text/plain": [
       "<matplotlib.figure.Figure at 0x1b0af630>"
      ]
     },
     "metadata": {},
     "output_type": "display_data"
    },
    {
     "data": {
      "image/png": "[encoded data removed]",
      "text/plain": [
       "<matplotlib.figure.Figure at 0x1c09a748>"
      ]
     },
     "metadata": {},
     "output_type": "display_data"
    },
    {
     "data": {
      "image/png": "[encoded data removed]",
      "text/plain": [
       "<matplotlib.figure.Figure at 0x1c09a828>"
      ]
     },
     "metadata": {},
     "output_type": "display_data"
    }
   ],
   "source": [
    "## create a list of unique subjects to iterate over\n",
    "## to simplify, let's just look at core subjects (RHET = Writing)\n",
    "courses = ['MATH','ENG','RHET','SCI','HIST']\n",
    "\n",
    "## loop over each subject and generate a bar chart, counting the number of unique students at each level\n",
    "for course in courses:  ## for each subject...\n",
    "    course_filter = prob_fail[prob_fail.course == course]  ## subset the data for only that subject\n",
    "    level_group = course_filter.groupby('level')  ## group by course level\n",
    "    plt.figure()  ## create a figure object\n",
    "    ax = level_group.studentid.nunique().plot(kind='bar', title=course)  ## plot the counts\n",
    "    ax.set_ylim(0,35)\n",
    "    plt.show()  ## display the figure"
   ]
  },
  {
   "cell_type": "markdown",
   "metadata": {},
   "source": [
    "Lower level classes seem to be struggling the most.  This makes sense, as historically, our Freshmen tend to have higher failure rates than returning students.  Additionally, anyone who failed a class the previous year can be more likely to fail it again.\n",
    "\n",
    "We will definitely need to beef up our 100-level staff for next year, as these enrollment numbers will be compounded with the incoming 8th graders.\n",
    "\n",
    "To make this data easily accessible, we can export this to a csv that can be shared..."
   ]
  },
  {
   "cell_type": "code",
   "execution_count": 24,
   "metadata": {
    "collapsed": false
   },
   "outputs": [],
   "source": [
    "## export counts to csv\n",
    "out_data = prob_fail.groupby(['course','level']).studentid.nunique()\n",
    "out_data.to_csv('probfail.csv', header=True)"
   ]
  },
  {
   "cell_type": "markdown",
   "metadata": {},
   "source": [
    "# Next Steps\n",
    "\n",
    "- Compare the predicted numbers against the amount of sections we are plan to have available.  Are there too many, too few, or just enough?\n",
    "- Audit the students predicted to fail.  Do the predictions align with what teachers already expect, or do they come as a surprise?\n",
    "- What other data could be useful in this model?  \n",
    "- Grade percentage is very high leverage, would this model have the same effectiveness if we were to remove it?\n",
    "- Evaluate these predictions at the end of the year.  We're all of the classifications correct?  Did it predict too many?  Too few?  What were the characteristics of the students that we misclassified?"
   ]
  },
  {
   "cell_type": "code",
   "execution_count": null,
   "metadata": {
    "collapsed": true
   },
   "outputs": [],
   "source": []
  }
 ],
 "metadata": {
  "kernelspec": {
   "display_name": "Python 2",
   "language": "python",
   "name": "python2"
  },
  "language_info": {
   "codemirror_mode": {
    "name": "ipython",
    "version": 2
   },
   "file_extension": ".py",
   "mimetype": "text/x-python",
   "name": "python",
   "nbconvert_exporter": "python",
   "pygments_lexer": "ipython2",
   "version": "2.7.9"
  }
 },
 "nbformat": 4,
 "nbformat_minor": 0
}
